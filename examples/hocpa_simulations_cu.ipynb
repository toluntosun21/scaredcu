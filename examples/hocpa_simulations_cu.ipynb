{
 "cells": [
  {
   "cell_type": "code",
   "execution_count": 1,
   "id": "dd53b612",
   "metadata": {},
   "outputs": [],
   "source": [
    "import sys\n",
    "sys.path.append('../scared_lbc')"
   ]
  },
  {
   "cell_type": "code",
   "execution_count": 2,
   "id": "ee1b7b80-79dd-4b78-b009-c751635424f5",
   "metadata": {
    "metadata": {}
   },
   "outputs": [],
   "source": [
    "import warnings\n",
    "warnings.filterwarnings(\"ignore\")"
   ]
  },
  {
   "cell_type": "code",
   "execution_count": 3,
   "id": "4888ca5f",
   "metadata": {},
   "outputs": [],
   "source": [
    "import cupy as _cu\n",
    "from tqdm.auto import tqdm\n",
    "import numpy as np\n",
    "import math"
   ]
  },
  {
   "cell_type": "code",
   "execution_count": 4,
   "id": "09e9ea23",
   "metadata": {},
   "outputs": [],
   "source": [
    "import scared_cu"
   ]
  },
  {
   "cell_type": "code",
   "execution_count": 5,
   "id": "2770dea8",
   "metadata": {},
   "outputs": [],
   "source": [
    "ABS        = 1\n",
    "ID         = 2\n",
    "ID_INV     = 3\n",
    "OPF        = 7\n",
    "ABS_ALT    = 8\n",
    "OPF_ALT    = 9"
   ]
  },
  {
   "cell_type": "code",
   "execution_count": 6,
   "id": "9b9e3bf0-8d22-4a9c-ab0c-db5ac4a350d2",
   "metadata": {
    "metadata": {}
   },
   "outputs": [],
   "source": [
    "reduction = scared_cu.lbc.modop.Reduction_Q2Q2(3329, 'int32')\n",
    "\n",
    "model = scared_cu.models.AbsoluteValue()\n",
    "\n",
    "\n",
    "N = 2000\n",
    "sigma = 0\n",
    "conv = 500\n",
    "\n",
    "n = 100 #don't touch\n",
    "n_step = 50\n",
    "\n",
    "neg_trick = False\n",
    "\n",
    "prng_off = False\n",
    "\n",
    "incomplete = 0"
   ]
  },
  {
   "cell_type": "code",
   "execution_count": 7,
   "id": "ffc9ea6c-235a-441d-a281-ee112f4f7406",
   "metadata": {
    "metadata": {}
   },
   "outputs": [],
   "source": [
    "def hocpa_wrapper(ths, reduction, model, step=1000, conv_step=1000, neg_trick=False, subkeys=None, early_stop=True, pp=True):\n",
    "\n",
    "    if incomplete == 0:\n",
    "        selection_function = scared_cu.lbc.selection_functions.BaseMul(reduction=reduction, words=subkeys)\n",
    "    else:\n",
    "        selection_function = scared_cu.lbc.selection_functions.BaseMulIncomplete(reduction=reduction, words=subkeys)\n",
    "    cpa = scared_cu.CPAAttackAlternative(selection_function=selection_function,\n",
    "                                               model=model,\n",
    "                                               discriminant=scared_cu.maxabs,\n",
    "                                               convergence_step=conv_step)\n",
    "\n",
    "\n",
    "    mean = ths.samples.mean(axis=0)\n",
    "    _n = ths.samples.shape[1] // 2\n",
    "    pp_ = scared_cu.preprocesses.high_order.CenteredProduct(mean=mean, frame_1=range(0,_n), frame_2=range(_n,2*_n), mode='same')\n",
    "\n",
    "    for i in tqdm(range(0, len(ths), step)):\n",
    "        if pp:\n",
    "            container = scared_cu.Container(ths[i:i + step], preprocesses=[pp_])\n",
    "        else:\n",
    "            container = scared_cu.Container(ths[i:i + step])\n",
    "        cpa.run(container)\n",
    "\n",
    "        if early_stop:\n",
    "            succs = util.succ_ratio(ths.s[0, subkeys], reduction.q, conv, cpa)\n",
    "            if succs[-1] == 1.0:\n",
    "                break\n",
    "\n",
    "    return cpa"
   ]
  },
  {
   "cell_type": "code",
   "execution_count": null,
   "id": "93db987c",
   "metadata": {},
   "outputs": [
    {
     "data": {
      "application/vnd.jupyter.widget-view+json": {
       "model_id": "fef9302f0b7e40198548921a5f66a92c",
       "version_major": 2,
       "version_minor": 0
      },
      "text/plain": [
       "  0%|          | 0/2000 [00:00<?, ?it/s]"
      ]
     },
     "metadata": {},
     "output_type": "display_data"
    }
   ],
   "source": [
    "ths = scared_cu.lbc.simulated_traces.collect_traces_basemult(N=N, n=n, sigma=sigma, reduction=reduction, incomplete=incomplete,\n",
    "                              const_seed=True, two_step=False, seed=0, prng_off=prng_off, leak_reduction=True)\n",
    "\n",
    "print(ths)"
   ]
  },
  {
   "cell_type": "code",
   "execution_count": 9,
   "id": "5800c449-2e02-43f6-acbb-d580af3703a9",
   "metadata": {
    "metadata": {}
   },
   "outputs": [
    {
     "data": {
      "application/vnd.jupyter.widget-view+json": {
       "model_id": "1357f2dcb024432d85f6bc9e927cc42c",
       "version_major": 2,
       "version_minor": 0
      },
      "text/plain": [
       "  0%|          | 0/2 [00:00<?, ?it/s]"
      ]
     },
     "metadata": {},
     "output_type": "display_data"
    },
    {
     "data": {
      "application/vnd.jupyter.widget-view+json": {
       "model_id": "4221126a85b64c3f9ae755f72334d293",
       "version_major": 2,
       "version_minor": 0
      },
      "text/plain": [
       "  0%|          | 0/4 [00:00<?, ?it/s]"
      ]
     },
     "metadata": {},
     "output_type": "display_data"
    },
    {
     "name": "stdout",
     "output_type": "stream",
     "text": [
      "(500, 3329, 50)\n",
      "[ 0  1  2  3  4  5  6  7  8  9 10 11 12 13 14 15 16 17 18 19 20 21 22 23\n",
      " 24 25 26 27 28 29 30 31 32 33 34 35 36 37 38 39 40 41 42 43 44 45 46 47\n",
      " 48 49]\n",
      "(500, 3329, 50)\n",
      "(500, 3329, 50)\n",
      "[ 0  1  2  3  4  5  6  7  8  9 10 11 12 13 14 15 16 17 18 19 20 21 22 23\n",
      " 24 25 26 27 28 29 30 31 32 33 34 35 36 37 38 39 40 41 42 43 44 45 46 47\n",
      " 48 49]\n",
      "(500, 3329, 50)\n",
      "(500, 3329, 50)\n",
      "[ 0  1  2  3  4  5  6  7  8  9 10 11 12 13 14 15 16 17 18 19 20 21 22 23\n",
      " 24 25 26 27 28 29 30 31 32 33 34 35 36 37 38 39 40 41 42 43 44 45 46 47\n",
      " 48 49]\n",
      "(500, 3329, 50)\n",
      "(500, 3329, 50)\n",
      "[ 0  1  2  3  4  5  6  7  8  9 10 11 12 13 14 15 16 17 18 19 20 21 22 23\n",
      " 24 25 26 27 28 29 30 31 32 33 34 35 36 37 38 39 40 41 42 43 44 45 46 47\n",
      " 48 49]\n",
      "(500, 3329, 50)\n",
      "(2.6989700043360183,1.0)(2.9999999999999996,1.0)(3.176091259055681,1.0)(3.301029995663981,1.0)\n",
      "-586-2743\t696-2633\t298-3031\t-3-3326\t-466-2863\t1340-1989\t449-2880\t-1334-1995\t-15-3314\t-1019-2310\t-721-2608\t989-2340\t-791-2538\t1266-2063\t938-2391\t1121-2208\t-293-3036\t1422-1907\t-644-2685\t-224-3105\t1603-1726\t67-3262\t713-2616\t-612-2717\t-939-2390\t-380-2949\t-1622-1707\t-215-3114\t1264-2065\t1031-2298\t-278-3051\t-920-2409\t-1650-1679\t1179-2150\t-490-2839\t-1348-1981\t-1328-2001\t1148-2181\t-226-3103\t-914-2415\t-456-2873\t1197-2132\t-83-3246\t1096-2233\t-869-2460\t133-3196\t-928-2401\t-1558-1771\t-265-3064\t-832-2497\t\n"
     ]
    },
    {
     "data": {
      "application/vnd.jupyter.widget-view+json": {
       "model_id": "8092df56f1c94175848cf82ff36be470",
       "version_major": 2,
       "version_minor": 0
      },
      "text/plain": [
       "  0%|          | 0/4 [00:00<?, ?it/s]"
      ]
     },
     "metadata": {},
     "output_type": "display_data"
    },
    {
     "name": "stdout",
     "output_type": "stream",
     "text": [
      "(500, 3329, 50)\n",
      "[50 51 52 53 54 55 56 57 58 59 60 61 62 63 64 65 66 67 68 69 70 71 72 73\n",
      " 74 75 76 77 78 79 80 81 82 83 84 85 86 87 88 89 90 91 92 93 94 95 96 97\n",
      " 98 99]\n",
      "(500, 3329, 50)\n",
      "(500, 3329, 50)\n",
      "[50 51 52 53 54 55 56 57 58 59 60 61 62 63 64 65 66 67 68 69 70 71 72 73\n",
      " 74 75 76 77 78 79 80 81 82 83 84 85 86 87 88 89 90 91 92 93 94 95 96 97\n",
      " 98 99]\n",
      "(500, 3329, 50)\n",
      "(500, 3329, 50)\n",
      "[50 51 52 53 54 55 56 57 58 59 60 61 62 63 64 65 66 67 68 69 70 71 72 73\n",
      " 74 75 76 77 78 79 80 81 82 83 84 85 86 87 88 89 90 91 92 93 94 95 96 97\n",
      " 98 99]\n",
      "(500, 3329, 50)\n",
      "(500, 3329, 50)\n",
      "[50 51 52 53 54 55 56 57 58 59 60 61 62 63 64 65 66 67 68 69 70 71 72 73\n",
      " 74 75 76 77 78 79 80 81 82 83 84 85 86 87 88 89 90 91 92 93 94 95 96 97\n",
      " 98 99]\n",
      "(500, 3329, 50)\n",
      "(2.6989700043360183,2.0)(2.9999999999999996,2.0)(3.176091259055681,2.0)(3.301029995663981,2.0)\n",
      "294-3035\t-594-2735\t-902-2427\t-80-3249\t-47-3282\t-272-3057\t-1584-1745\t-521-2808\t1137-2192\t-566-2763\t221-3108\t-1632-1697\t-968-2361\t-128-3201\t-1155-2174\t1628-1701\t-326-3003\t-61-3268\t-775-2554\t-220-3109\t489-2840\t-1601-1728\t403-2926\t712-2617\t1270-2059\t-1002-2327\t674-2655\t1566-1763\t1421-1908\t-906-2423\t-1284-2045\t-1412-1917\t-1418-1911\t-33-3296\t1406-1923\t-783-2546\t-484-2845\t-1589-1740\t552-2777\t1274-2055\t-756-2573\t449-2880\t-1045-2284\t414-2915\t1250-2079\t589-2740\t879-2450\t-1046-2283\t591-2738\t-667-2662\t\n"
     ]
    }
   ],
   "source": [
    "succs = None\n",
    "for n_i in tqdm(range(0, n, n_step)):\n",
    "    subkeys = _cu.arange(n_i, n_i + n_step)\n",
    "    assert ((ths.s % reduction.q) == ((ths.s0 + ths.s1) % reduction.q)).all()\n",
    "    cpa = hocpa_wrapper(ths[:N], reduction, model, step=conv, conv_step=conv, neg_trick=neg_trick, subkeys=subkeys, early_stop=False, pp=not prng_off)\n",
    "    succs_i_ = scared_cu._utils.succ_ratio(ths.s[0, subkeys], reduction.q, conv, cpa, incomplete=incomplete!=0)\n",
    "    succs_i = _cu.zeros(N//conv)\n",
    "    for i in range(len(succs_i_)):\n",
    "        succs_i[i] = succs_i_[i]\n",
    "    for i in range(len(succs_i_), len(succs_i)):\n",
    "        succs_i[i] = succs_i_[-1]\n",
    "    if succs is None:\n",
    "        succs = _cu.array(succs_i)\n",
    "    else:\n",
    "        succs += _cu.array(succs_i)\n",
    "    \n",
    "    for x,y in zip(range(conv,N+1,conv),succs):\n",
    "        print(f'({math.log(x)/math.log(10)},{y})',end='')\n",
    "    print()\n",
    "    for i in range(n_i, n_i + n_step):\n",
    "        print(f'{ths.s[0, i]}-{cpa.scores[:,i-n_i].argsort()[-2]}', end='\\t')\n",
    "    print()\n",
    "\n",
    "    if n_i != (n - n_step):\n",
    "        del cpa\n",
    "\n",
    "\n",
    "succs /= (n//n_step)\n",
    "# assert (mmia.data == (-1)).sum() == 0\n"
   ]
  },
  {
   "cell_type": "code",
   "execution_count": 10,
   "id": "7a7c4a03-7338-4e03-96cd-5cff9f36d568",
   "metadata": {
    "metadata": {}
   },
   "outputs": [
    {
     "name": "stdout",
     "output_type": "stream",
     "text": [
      "(2.6989700043360183,1.0)(2.9999999999999996,1.0)(3.176091259055681,1.0)(3.301029995663981,1.0)"
     ]
    }
   ],
   "source": [
    "for x,y in zip(range(conv,N+1,conv),succs):\n",
    "    print(f'({math.log(x)/math.log(10)},{y})',end='')"
   ]
  },
  {
   "cell_type": "code",
   "execution_count": 11,
   "id": "898eccdb",
   "metadata": {},
   "outputs": [
    {
     "ename": "IndexError",
     "evalue": "index 3 is out of bounds for axis 0 with size 3",
     "output_type": "error",
     "traceback": [
      "\u001b[0;31m---------------------------------------------------------------------------\u001b[0m",
      "\u001b[0;31mIndexError\u001b[0m                                Traceback (most recent call last)",
      "Cell \u001b[0;32mIn[11], line 1\u001b[0m\n\u001b[0;32m----> 1\u001b[0m \u001b[43mnp\u001b[49m\u001b[38;5;241;43m.\u001b[39;49m\u001b[43marray\u001b[49m\u001b[43m(\u001b[49m\u001b[43m[\u001b[49m\u001b[38;5;241;43m1\u001b[39;49m\u001b[43m,\u001b[49m\u001b[38;5;241;43m2\u001b[39;49m\u001b[43m,\u001b[49m\u001b[38;5;241;43m3\u001b[39;49m\u001b[43m]\u001b[49m\u001b[43m)\u001b[49m\u001b[43m[\u001b[49m\u001b[43m[\u001b[49m\u001b[38;5;241;43m3\u001b[39;49m\u001b[43m,\u001b[49m\u001b[38;5;241;43m4\u001b[39;49m\u001b[43m,\u001b[49m\u001b[38;5;241;43m5\u001b[39;49m\u001b[43m]\u001b[49m\u001b[43m]\u001b[49m\n",
      "\u001b[0;31mIndexError\u001b[0m: index 3 is out of bounds for axis 0 with size 3"
     ]
    }
   ],
   "source": [
    "np.array([1,2,3])[[3,4,5]]"
   ]
  },
  {
   "cell_type": "markdown",
   "id": "446dc62e",
   "metadata": {},
   "source": []
  }
 ],
 "metadata": {
  "kernelspec": {
   "display_name": "sca",
   "language": "python",
   "name": "python3"
  },
  "language_info": {
   "codemirror_mode": {
    "name": "ipython",
    "version": 3
   },
   "file_extension": ".py",
   "mimetype": "text/x-python",
   "name": "python",
   "nbconvert_exporter": "python",
   "pygments_lexer": "ipython3",
   "version": "3.12.2"
  }
 },
 "nbformat": 4,
 "nbformat_minor": 5
}
