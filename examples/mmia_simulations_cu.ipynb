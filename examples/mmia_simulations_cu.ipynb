{
 "cells": [
  {
   "cell_type": "code",
   "execution_count": 1,
   "id": "dd53b612",
   "metadata": {},
   "outputs": [],
   "source": [
    "import sys\n",
    "sys.path.append('../scared_lbc')"
   ]
  },
  {
   "cell_type": "code",
   "execution_count": 2,
   "id": "ee1b7b80-79dd-4b78-b009-c751635424f5",
   "metadata": {
    "metadata": {}
   },
   "outputs": [],
   "source": [
    "import warnings\n",
    "warnings.filterwarnings(\"ignore\")"
   ]
  },
  {
   "cell_type": "code",
   "execution_count": 3,
   "id": "4888ca5f",
   "metadata": {},
   "outputs": [],
   "source": [
    "import cupy as _cu\n",
    "from tqdm.auto import tqdm\n",
    "import numpy as np\n",
    "import math"
   ]
  },
  {
   "cell_type": "code",
   "execution_count": 4,
   "id": "09e9ea23",
   "metadata": {},
   "outputs": [],
   "source": [
    "import scared_cu"
   ]
  },
  {
   "cell_type": "code",
   "execution_count": 5,
   "id": "965fad3b",
   "metadata": {},
   "outputs": [
    {
     "data": {
      "text/plain": [
       "5"
      ]
     },
     "execution_count": 5,
     "metadata": {},
     "output_type": "execute_result"
    }
   ],
   "source": [
    "47//8"
   ]
  },
  {
   "cell_type": "code",
   "execution_count": 6,
   "id": "9b9e3bf0-8d22-4a9c-ab0c-db5ac4a350d2",
   "metadata": {
    "metadata": {}
   },
   "outputs": [],
   "source": [
    "reduction = scared_cu.lbc.modop.Reduction_0Q(257, 'int16')\n",
    "\n",
    "model = scared_cu.models.SignedHammingWeight(expected_dtype='int16')\n",
    "# model = scared_cu.models.ShiftRight(4)\n",
    "# model = ShiftRightAndMask(6, 6)\n",
    "# model = BinHammingWeight(expected_dtype='int32')\n",
    "# model = scared_cu.models.Mask(6)\n",
    "# model = scared_cu.Value()\n",
    "\n",
    "partitions = _cu.arange(9)\n",
    "\n",
    "\n",
    "N = 15000\n",
    "sigma = 1\n",
    "conv = 3000\n",
    "\n",
    "n = 32 #don't touch\n",
    "n_step = 32\n",
    "\n",
    "neg_trick = False\n",
    "\n",
    "prng_off = False\n",
    "\n",
    "incomplete = 0"
   ]
  },
  {
   "cell_type": "code",
   "execution_count": 7,
   "id": "ffc9ea6c-235a-441d-a281-ee112f4f7406",
   "metadata": {
    "metadata": {}
   },
   "outputs": [],
   "source": [
    "def mmia_wrapper(ths, reduction, model, partitions,step=1000, conv_step=1000, neg_trick=False, subkeys=None, early_stop=True, pp=False, accept_shift=False, sa=2):\n",
    "\n",
    "    if incomplete == 0:\n",
    "        selection_function = scared_cu.lbc.selection_functions.BaseMul(reduction=reduction, words=subkeys)\n",
    "    else:\n",
    "        selection_function = scared_cu.lbc.selection_functions.BaseMulIncomplete(reduction=reduction, words=subkeys)\n",
    "\n",
    "\n",
    "    if reduction.o_dtype == 'int8':\n",
    "        bin_edges = [-0.5,0.5,1.5,2.5,3.5,4.5,5.5,6.5,7.5,8.5]\n",
    "    elif reduction.o_dtype == 'int16':\n",
    "        bin_edges = [-0.5,0.5,1.5,2.5,3.5,4.5,5.5,6.5,7.5,8.5,9.5,10.5,11.5,12.5,13.5,14.5,15.5,16.5]\n",
    "    elif reduction.o_dtype == 'int32':\n",
    "        bin_edges = [-0.5,0.5,1.5,2.5,3.5,4.5,5.5,6.5,7.5,8.5,9.5,10.5,11.5,12.5,13.5,14.5,15.5,16.5,17.5,18.5,19.5,20.5,21.5,22.5,23.5,24.5,25.5,26.5,27.5,28.5,29.5,30.5,31.5,32.5]\n",
    "    bin_edges = [-0.5,0.5,1.5,2.5,3.5,4.5,5.5,6.5,7.5,8.5,9.5,10.5,11.5,12.5,13.5,14.5,15.5,16.5,17.5,18.5,19.5,20.5,21.5,22.5,23.5,24.5,25.5,26.5,27.5,28.5,29.5,30.5,31.5,32.5]\n",
    "    bin_edges = [-0.5,0.5,1.5,2.5,3.5,4.5,5.5,6.5,7.5,8.5]\n",
    "\n",
    "    mmia = scared_cu.MMIAAttack(selection_function=selection_function,\n",
    "                            model=model,\n",
    "                            bin_edges=bin_edges,\n",
    "                            partitions=partitions,\n",
    "                            same_bins=True,\n",
    "                            place_outliers=False,\n",
    "                            offset=n, \n",
    "                            discriminant=scared_cu.maxabs,\n",
    "                            convergence_step=conv_step)\n",
    "\n",
    "\n",
    "    for i in tqdm(range(0, len(ths), step)):\n",
    "        container = scared_cu.Container(ths[i:i + step])\n",
    "        mmia.run(container)\n",
    "\n",
    "        if early_stop:\n",
    "            succs = scared_cu._utils.succ_ratio(ths.s[0, subkeys], reduction.q, conv, mmia, accept_shift=accept_shift, sa=sa, incomplete=incomplete!=0)\n",
    "            if succs[-1] == 1.0:\n",
    "                break\n",
    "\n",
    "\n",
    "    return mmia"
   ]
  },
  {
   "cell_type": "code",
   "execution_count": 8,
   "id": "93db987c",
   "metadata": {},
   "outputs": [
    {
     "data": {
      "application/vnd.jupyter.widget-view+json": {
       "model_id": "d59f1203273141e6b0bdd2a4e087afda",
       "version_major": 2,
       "version_minor": 0
      },
      "text/plain": [
       "  0%|          | 0/15000 [00:00<?, ?it/s]"
      ]
     },
     "metadata": {},
     "output_type": "display_data"
    },
    {
     "name": "stdout",
     "output_type": "stream",
     "text": [
      "Trace Header Set:\n",
      "Name.............: RAM Format THS\n",
      "Reader...........: RAM reader with 15000 traces. Samples shape: (15000, 64) and metadatas: ['c', 's', 's0', 's1']\n",
      "c................: int16\n",
      "s................: int16\n",
      "s0...............: int16\n",
      "s1...............: int16\n",
      "\n"
     ]
    }
   ],
   "source": [
    "ths = scared_cu.lbc.simulated_traces.collect_traces_basemult(N=N, n=n, sigma=sigma, reduction=reduction, incomplete=incomplete,\n",
    "                              const_seed=True, two_step=False, seed=0, prng_off=prng_off, leak_reduction=True)\n",
    "\n",
    "print(ths)"
   ]
  },
  {
   "cell_type": "code",
   "execution_count": 9,
   "id": "5800c449-2e02-43f6-acbb-d580af3703a9",
   "metadata": {
    "metadata": {}
   },
   "outputs": [
    {
     "data": {
      "application/vnd.jupyter.widget-view+json": {
       "model_id": "126fdba97a644a8f85216991ff5e0dda",
       "version_major": 2,
       "version_minor": 0
      },
      "text/plain": [
       "  0%|          | 0/1 [00:00<?, ?it/s]"
      ]
     },
     "metadata": {},
     "output_type": "display_data"
    },
    {
     "data": {
      "application/vnd.jupyter.widget-view+json": {
       "model_id": "ea88654fc72a4f91ad496abbc3a4bdc8",
       "version_major": 2,
       "version_minor": 0
      },
      "text/plain": [
       "  0%|          | 0/5 [00:00<?, ?it/s]"
      ]
     },
     "metadata": {},
     "output_type": "display_data"
    },
    {
     "name": "stdout",
     "output_type": "stream",
     "text": [
      "(3.4771212547196617,0.03125)(3.778151250383643,0.1875)(3.9542425094393248,0.5625)(4.079181246047624,0.875)(4.176091259055681,0.875)\n",
      "183-183\t184-184\t42-42\t254-254\t47-47\t60-60\t193-193\t203-203\t242-227\t6-3\t48-48\t221-239\t234-234\t242-242\t170-170\t97-97\t220-220\t142-142\t125-125\t33-33\t67-67\t67-67\t201-201\t157-157\t86-86\t133-133\t171-171\t42-42\t240-240\t7-7\t235-246\t105-105\t\n"
     ]
    }
   ],
   "source": [
    "succs = None\n",
    "for n_i in tqdm(range(0, n, n_step)):\n",
    "    subkeys = _cu.arange(n_i, n_i + n_step)\n",
    "    assert ((ths.s % reduction.q) == ((ths.s0 + ths.s1) % reduction.q)).all()\n",
    "    mmia = mmia_wrapper(ths[:N], reduction, model, partitions, step=conv, conv_step=conv, neg_trick=neg_trick, subkeys=subkeys, early_stop=False, pp=not prng_off)\n",
    "    succs_i_ = scared_cu._utils.succ_ratio(ths.s[0, subkeys], reduction.q, conv, mmia, incomplete=incomplete!=0)\n",
    "    succs_i = _cu.zeros(N//conv)\n",
    "    for i in range(len(succs_i_)):\n",
    "        succs_i[i] = succs_i_[i]\n",
    "    for i in range(len(succs_i_), len(succs_i)):\n",
    "        succs_i[i] = succs_i_[-1]\n",
    "    if succs is None:\n",
    "        succs = _cu.array(succs_i)\n",
    "    else:\n",
    "        succs += _cu.array(succs_i)\n",
    "    \n",
    "    for x,y in zip(range(conv,N+1,conv),succs):\n",
    "        print(f'({math.log(x)/math.log(10)},{y})',end='')\n",
    "    # if n_i != (n - n_step):\n",
    "    #     del kw\n",
    "    print()\n",
    "    for i in range(n_i, n_i + n_step):\n",
    "        print(f'{ths.s[0, i]}-{mmia.scores[:,i-n_i].argsort()[-1]}', end='\\t')\n",
    "    print()\n",
    "\n",
    "\n",
    "succs /= (n//n_step)\n",
    "# assert (mmia.data == (-1)).sum() == 0\n"
   ]
  },
  {
   "cell_type": "code",
   "execution_count": 10,
   "id": "7ec82493",
   "metadata": {},
   "outputs": [
    {
     "data": {
      "text/plain": [
       "array(-3.972682)"
      ]
     },
     "execution_count": 10,
     "metadata": {},
     "output_type": "execute_result"
    }
   ],
   "source": [
    "ths.samples.min()"
   ]
  },
  {
   "cell_type": "code",
   "execution_count": 11,
   "id": "a39ea85d",
   "metadata": {},
   "outputs": [
    {
     "name": "stdout",
     "output_type": "stream",
     "text": [
      "(3.4771212547196617,0.03125)(3.778151250383643,0.1875)(3.9542425094393248,0.5625)(4.079181246047624,0.875)(4.176091259055681,0.875)"
     ]
    }
   ],
   "source": [
    "for x,y in zip(range(conv,N+1,conv),succs):\n",
    "    print(f'({math.log(x)/math.log(10)},{y})',end='')"
   ]
  },
  {
   "cell_type": "code",
   "execution_count": 12,
   "id": "64c52df1",
   "metadata": {},
   "outputs": [
    {
     "name": "stdout",
     "output_type": "stream",
     "text": [
      "[[0 0]\n",
      " [1 0]\n",
      " [2 0]\n",
      " [3 0]\n",
      " [0 1]\n",
      " [1 1]\n",
      " [2 1]\n",
      " [3 1]\n",
      " [0 2]\n",
      " [1 2]\n",
      " [2 2]\n",
      " [3 2]\n",
      " [0 3]\n",
      " [1 3]\n",
      " [2 3]\n",
      " [3 3]]\n",
      "\n",
      "[[[0 0]\n",
      "  [0 2]\n",
      "  [0 0]\n",
      "  [0 2]\n",
      "  [1 3]\n",
      "  [1 1]\n",
      "  [1 3]\n",
      "  [1 1]\n",
      "  [2 2]\n",
      "  [2 0]\n",
      "  [2 2]\n",
      "  [2 0]\n",
      "  [3 1]\n",
      "  [3 3]\n",
      "  [3 1]\n",
      "  [3 3]]\n",
      "\n",
      " [[0 0]\n",
      "  [0 2]\n",
      "  [0 0]\n",
      "  [0 2]\n",
      "  [2 2]\n",
      "  [2 0]\n",
      "  [2 2]\n",
      "  [2 0]\n",
      "  [0 0]\n",
      "  [0 2]\n",
      "  [0 0]\n",
      "  [0 2]\n",
      "  [2 2]\n",
      "  [2 0]\n",
      "  [2 2]\n",
      "  [2 0]]\n",
      "\n",
      " [[0 0]\n",
      "  [2 3]\n",
      "  [0 2]\n",
      "  [2 1]\n",
      "  [0 2]\n",
      "  [2 1]\n",
      "  [0 0]\n",
      "  [2 3]\n",
      "  [0 0]\n",
      "  [2 3]\n",
      "  [0 2]\n",
      "  [2 1]\n",
      "  [0 2]\n",
      "  [2 1]\n",
      "  [0 0]\n",
      "  [2 3]]]\n"
     ]
    }
   ],
   "source": [
    "reduction = scared_cu.lbc.modop.Reduction_0Q(4, 'int16')\n",
    "guesses_coeff = reduction.reduce(_cu.arange(0, reduction.q, dtype=reduction.o_dtype))\n",
    "high = _cu.repeat(guesses_coeff, reduction.q)\n",
    "low = _cu.tile(guesses_coeff, reduction.q)\n",
    "guesses = _cu.concatenate((low[:, _cu.newaxis], high[:, _cu.newaxis]), axis=1)\n",
    "print(guesses)\n",
    "print()\n",
    "c_ = _cu.array([[[0, 1], [2, 3]],[[0, 2], [2, 2]],[[2, 0], [3, 2]]], dtype=reduction.o_dtype)\n",
    "res = reduction.reduce((c_[:, _cu.newaxis, :, :] * guesses[_cu.newaxis, :, _cu.newaxis, :]).sum(axis=3))\n",
    "print(res)"
   ]
  },
  {
   "cell_type": "code",
   "execution_count": 13,
   "id": "e0b0f9fe",
   "metadata": {},
   "outputs": [
    {
     "data": {
      "text/plain": [
       "(257, 32)"
      ]
     },
     "execution_count": 13,
     "metadata": {},
     "output_type": "execute_result"
    }
   ],
   "source": [
    "mmia.scores.shape"
   ]
  },
  {
   "cell_type": "markdown",
   "id": "446dc62e",
   "metadata": {},
   "source": []
  },
  {
   "cell_type": "markdown",
   "id": "2b8ac16f",
   "metadata": {},
   "source": []
  }
 ],
 "metadata": {
  "kernelspec": {
   "display_name": "sca",
   "language": "python",
   "name": "python3"
  },
  "language_info": {
   "codemirror_mode": {
    "name": "ipython",
    "version": 3
   },
   "file_extension": ".py",
   "mimetype": "text/x-python",
   "name": "python",
   "nbconvert_exporter": "python",
   "pygments_lexer": "ipython3",
   "version": "3.12.2"
  }
 },
 "nbformat": 4,
 "nbformat_minor": 5
}
