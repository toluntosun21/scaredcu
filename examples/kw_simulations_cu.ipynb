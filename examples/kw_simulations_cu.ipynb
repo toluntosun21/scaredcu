{
 "cells": [
  {
   "cell_type": "code",
   "execution_count": 1,
   "id": "dd53b612",
   "metadata": {},
   "outputs": [],
   "source": [
    "import sys\n",
    "sys.path.append('../scared_lbc')"
   ]
  },
  {
   "cell_type": "code",
   "execution_count": 2,
   "id": "ee1b7b80-79dd-4b78-b009-c751635424f5",
   "metadata": {
    "metadata": {}
   },
   "outputs": [],
   "source": [
    "import warnings\n",
    "warnings.filterwarnings(\"ignore\")"
   ]
  },
  {
   "cell_type": "code",
   "execution_count": 3,
   "id": "4888ca5f",
   "metadata": {},
   "outputs": [],
   "source": [
    "import cupy as _cu\n",
    "from tqdm.auto import tqdm\n",
    "import numpy as np\n",
    "import math"
   ]
  },
  {
   "cell_type": "code",
   "execution_count": 4,
   "id": "09e9ea23",
   "metadata": {},
   "outputs": [],
   "source": [
    "import scared_cu"
   ]
  },
  {
   "cell_type": "code",
   "execution_count": 6,
   "id": "9b9e3bf0-8d22-4a9c-ab0c-db5ac4a350d2",
   "metadata": {
    "metadata": {}
   },
   "outputs": [],
   "source": [
    "reduction = scared_cu.lbc.modop.Reduction_0Q(257, 'int16')\n",
    "\n",
    "model = scared_cu.models.SignedHammingWeight(expected_dtype='int16')\n",
    "# model = scared_cu.models.ShiftRight(4)\n",
    "# model = ShiftRightAndMask(6, 6)\n",
    "# model = BinHammingWeight(expected_dtype='int32')\n",
    "# model = scared_cu.models.Mask(6)\n",
    "# model = scared_cu.Value()\n",
    "\n",
    "partitions = _cu.arange(9)\n",
    "\n",
    "\n",
    "N = 15000\n",
    "sigma = 1\n",
    "conv = 3000\n",
    "\n",
    "n = 32 #don't touch\n",
    "n_step = 32\n",
    "\n",
    "neg_trick = False\n",
    "\n",
    "prng_off = False\n",
    "\n",
    "incomplete = 0"
   ]
  },
  {
   "cell_type": "code",
   "execution_count": 7,
   "id": "ffc9ea6c-235a-441d-a281-ee112f4f7406",
   "metadata": {
    "metadata": {}
   },
   "outputs": [],
   "source": [
    "def kw_wrapper(ths, reduction, model, partitions, step=1000, conv_step=1000, neg_trick=False, subkeys=None, early_stop=True, pp=False, accept_shift=False, sa=2):\n",
    "\n",
    "    if incomplete == 0:\n",
    "        selection_function = scared_cu.lbc.selection_functions.BaseMul(reduction=reduction, words=subkeys)\n",
    "    else:\n",
    "        selection_function = scared_cu.lbc.selection_functions.BaseMulIncomplete(reduction=reduction, words=subkeys)\n",
    "\n",
    "    kw_attack = scared_cu.KWAttack(selection_function=selection_function,\n",
    "                                               model=model,\n",
    "                                               discriminant=scared_cu.maxabs,\n",
    "                                               convergence_step=conv_step,\n",
    "                                               partitions=partitions)\n",
    "\n",
    "    mean = ths.samples.mean(axis=0)\n",
    "    _n = ths.samples.shape[1] // 2\n",
    "    pp_ = scared_cu.preprocesses.high_order.CenteredProduct(mean=mean, frame_1=range(0,_n), frame_2=range(_n,2*_n), mode='same')\n",
    "\n",
    "    for i in tqdm(range(0, len(ths), step)):\n",
    "        if pp:\n",
    "            container = scared_cu.Container(ths[i:i + step], preprocesses=[pp_])\n",
    "        else:\n",
    "            container = scared_cu.Container(ths[i:i + step])\n",
    "        kw_attack.run(container)\n",
    "\n",
    "        if early_stop:\n",
    "            succs = scared_cu._utils.succ_ratio(ths.s[0, subkeys], reduction.q, conv, kw_attack, accept_shift=accept_shift, sa=sa, incomplete=incomplete!=0)\n",
    "            if succs[-1] == 1.0:\n",
    "                break\n",
    "\n",
    "    return kw_attack"
   ]
  },
  {
   "cell_type": "code",
   "execution_count": 8,
   "id": "93db987c",
   "metadata": {},
   "outputs": [
    {
     "data": {
      "application/vnd.jupyter.widget-view+json": {
       "model_id": "236e9bb71a644cd290aaba38bf824b74",
       "version_major": 2,
       "version_minor": 0
      },
      "text/plain": [
       "  0%|          | 0/15000 [00:00<?, ?it/s]"
      ]
     },
     "metadata": {},
     "output_type": "display_data"
    },
    {
     "name": "stdout",
     "output_type": "stream",
     "text": [
      "Trace Header Set:\n",
      "Name.............: RAM Format THS\n",
      "Reader...........: RAM reader with 15000 traces. Samples shape: (15000, 64) and metadatas: ['c', 's', 's0', 's1']\n",
      "c................: int16\n",
      "s................: int16\n",
      "s0...............: int16\n",
      "s1...............: int16\n",
      "\n"
     ]
    }
   ],
   "source": [
    "ths = scared_cu.lbc.simulated_traces.collect_traces_basemult(N=N, n=n, sigma=sigma, reduction=reduction, incomplete=incomplete,\n",
    "                              const_seed=True, two_step=False, seed=0, prng_off=prng_off, leak_reduction=True)\n",
    "\n",
    "print(ths)"
   ]
  },
  {
   "cell_type": "code",
   "execution_count": 9,
   "id": "5800c449-2e02-43f6-acbb-d580af3703a9",
   "metadata": {
    "metadata": {}
   },
   "outputs": [
    {
     "data": {
      "application/vnd.jupyter.widget-view+json": {
       "model_id": "8d5c2b3ac6e34f3d88c81b437353070c",
       "version_major": 2,
       "version_minor": 0
      },
      "text/plain": [
       "  0%|          | 0/1 [00:00<?, ?it/s]"
      ]
     },
     "metadata": {},
     "output_type": "display_data"
    },
    {
     "data": {
      "application/vnd.jupyter.widget-view+json": {
       "model_id": "27facc68943a4fdc9a3391c940e53416",
       "version_major": 2,
       "version_minor": 0
      },
      "text/plain": [
       "  0%|          | 0/5 [00:00<?, ?it/s]"
      ]
     },
     "metadata": {},
     "output_type": "display_data"
    },
    {
     "name": "stdout",
     "output_type": "stream",
     "text": [
      "(3.4771212547196617,0.625)(3.778151250383643,0.84375)(3.9542425094393248,0.9375)(4.079181246047624,0.96875)(4.176091259055681,1.0)\n",
      "183-183\t184-184\t42-42\t254-254\t47-47\t60-60\t193-193\t203-203\t242-242\t6-6\t48-48\t221-221\t234-234\t242-242\t170-170\t97-97\t220-220\t142-142\t125-125\t33-33\t67-67\t67-67\t201-201\t157-157\t86-86\t133-133\t171-171\t42-42\t240-240\t7-7\t235-235\t105-105\t\n"
     ]
    }
   ],
   "source": [
    "succs = None\n",
    "\n",
    "\n",
    "for n_i in tqdm(range(0, n, n_step)):\n",
    "    subkeys = _cu.arange(n_i, n_i + n_step)\n",
    "    assert ((ths.s % reduction.q) == ((ths.s0 + ths.s1) % reduction.q)).all()\n",
    "    kw = kw_wrapper(ths[:N], reduction, model, partitions, step=conv, conv_step=conv, neg_trick=neg_trick, subkeys=subkeys, early_stop=False, pp=not prng_off)\n",
    "    succs_i_ = scared_cu._utils.succ_ratio(ths.s[0, subkeys], reduction.q, conv, kw, incomplete=incomplete!=0)\n",
    "    succs_i = _cu.zeros(N//conv)\n",
    "    for i in range(len(succs_i_)):\n",
    "        succs_i[i] = succs_i_[i]\n",
    "    for i in range(len(succs_i_), len(succs_i)):\n",
    "        succs_i[i] = succs_i_[-1]\n",
    "    if succs is None:\n",
    "        succs = _cu.array(succs_i)\n",
    "    else:\n",
    "        succs += _cu.array(succs_i)\n",
    "\n",
    "    for x,y in zip(range(conv,N+1,conv),succs):\n",
    "        print(f'({math.log(x)/math.log(10)},{y})',end='')\n",
    "    # if n_i != (n - n_step):\n",
    "    #     del kw\n",
    "    print()\n",
    "    for i in range(n_i, n_i + n_step):\n",
    "        print(f'{ths.s[0, i]}-{kw.scores[:,i-n_i].argsort()[-1]}', end='\\t')\n",
    "    print()\n",
    "\n",
    "succs /= (n//n_step)\n",
    "assert (kw.data == (-1)).sum() == 0\n"
   ]
  },
  {
   "cell_type": "code",
   "execution_count": 10,
   "id": "e60ede92",
   "metadata": {},
   "outputs": [
    {
     "name": "stdout",
     "output_type": "stream",
     "text": [
      "(3.4771212547196617,0.625)(3.778151250383643,0.84375)(3.9542425094393248,0.9375)(4.079181246047624,0.96875)(4.176091259055681,1.0)"
     ]
    }
   ],
   "source": [
    "for x,y in zip(range(conv,N+1,conv),succs):\n",
    "    print(f'({math.log(x)/math.log(10)},{y})',end='')"
   ]
  },
  {
   "cell_type": "markdown",
   "id": "446dc62e",
   "metadata": {},
   "source": []
  },
  {
   "cell_type": "markdown",
   "id": "2b8ac16f",
   "metadata": {},
   "source": []
  }
 ],
 "metadata": {
  "kernelspec": {
   "display_name": "sca",
   "language": "python",
   "name": "python3"
  },
  "language_info": {
   "codemirror_mode": {
    "name": "ipython",
    "version": 3
   },
   "file_extension": ".py",
   "mimetype": "text/x-python",
   "name": "python",
   "nbconvert_exporter": "python",
   "pygments_lexer": "ipython3",
   "version": "3.12.2"
  }
 },
 "nbformat": 4,
 "nbformat_minor": 5
}
