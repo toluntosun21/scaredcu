{
 "cells": [
  {
   "cell_type": "code",
   "execution_count": 1,
   "id": "dd53b612",
   "metadata": {},
   "outputs": [],
   "source": [
    "import sys\n",
    "sys.path.append('../scared_lbc')"
   ]
  },
  {
   "cell_type": "code",
   "execution_count": 2,
   "id": "ee1b7b80-79dd-4b78-b009-c751635424f5",
   "metadata": {
    "metadata": {}
   },
   "outputs": [],
   "source": [
    "import warnings\n",
    "warnings.filterwarnings(\"ignore\")"
   ]
  },
  {
   "cell_type": "code",
   "execution_count": 3,
   "id": "4888ca5f",
   "metadata": {},
   "outputs": [],
   "source": [
    "import cupy as _cu\n",
    "from tqdm.auto import tqdm\n",
    "import numpy as np\n",
    "import math"
   ]
  },
  {
   "cell_type": "code",
   "execution_count": 4,
   "id": "09e9ea23",
   "metadata": {},
   "outputs": [],
   "source": [
    "import scared_cu"
   ]
  },
  {
   "cell_type": "code",
   "execution_count": 5,
   "id": "9b9e3bf0-8d22-4a9c-ab0c-db5ac4a350d2",
   "metadata": {
    "metadata": {}
   },
   "outputs": [],
   "source": [
    "reduction = scared_cu.lbc.modop.Reduction_Q2Q2(3329, 'int32')\n",
    "\n",
    "model = scared_cu.models.AbsoluteValue()\n",
    "\n",
    "\n",
    "N = 2000\n",
    "sigma = 0\n",
    "conv = 250\n",
    "\n",
    "# scared_cu.container.set_batch_size(5)\n",
    "\n",
    "n = 100 #don't touch\n",
    "n_step = 1\n",
    "\n",
    "neg_trick = False\n",
    "\n",
    "prng_off = False\n",
    "\n",
    "incomplete = 0\n",
    "\n",
    "cu_step = 1 << 10"
   ]
  },
  {
   "cell_type": "code",
   "execution_count": 6,
   "id": "ffc9ea6c-235a-441d-a281-ee112f4f7406",
   "metadata": {
    "metadata": {}
   },
   "outputs": [],
   "source": [
    "def hocpa_wrapper(ths, reduction, model, step=1000, conv_step=1000, neg_trick=False, subkeys=None, early_stop=True, pp=True):\n",
    "\n",
    "\n",
    "    selection_function = scared_cu.lbc.selection_functions.BaseMulLargeQ(reduction=reduction, words=subkeys, cu_step=cu_step)\n",
    "\n",
    "    selection_function.reset()\n",
    "\n",
    "    for _ in tqdm(range(selection_function.num_steps)):\n",
    "\n",
    "        assert selection_function.done() == False\n",
    "\n",
    "\n",
    "        cpa = scared_cu.CPAAttackAlternative(selection_function=selection_function,\n",
    "                                                model=model,\n",
    "                                                discriminant=scared_cu.maxabs,\n",
    "                                                convergence_step=conv_step)\n",
    "\n",
    "\n",
    "        mean = ths.samples.mean(axis=0)\n",
    "        _n = ths.samples.shape[1] // 2\n",
    "        pp_ = scared_cu.preprocesses.high_order.CenteredProduct(mean=mean, frame_1=range(0,_n), frame_2=range(_n,2*_n), mode='same')\n",
    "\n",
    "        for i in range(0, len(ths), step):\n",
    "            if pp:\n",
    "                container = scared_cu.Container(ths[i:i + step], preprocesses=[pp_])\n",
    "            else:\n",
    "                container = scared_cu.Container(ths[i:i + step])\n",
    "            cpa.run(container)\n",
    "\n",
    "            # if early_stop:\n",
    "            #     succs = util.succ_ratio(ths.s[0, subkeys], reduction.q, conv, cpa)\n",
    "            #     if succs[-1] == 1.0:\n",
    "            #         break\n",
    "\n",
    "    selection_function.save_scores(cpa.convergence_traces)\n",
    "    selection_function.next()\n",
    "\n",
    "    return selection_function.scores"
   ]
  },
  {
   "cell_type": "code",
   "execution_count": 7,
   "id": "93db987c",
   "metadata": {},
   "outputs": [
    {
     "data": {
      "application/vnd.jupyter.widget-view+json": {
       "model_id": "de4bd7dd7c854c07b3f3392ae2fdc15e",
       "version_major": 2,
       "version_minor": 0
      },
      "text/plain": [
       "  0%|          | 0/2000 [00:00<?, ?it/s]"
      ]
     },
     "metadata": {},
     "output_type": "display_data"
    },
    {
     "name": "stdout",
     "output_type": "stream",
     "text": [
      "Trace Header Set:\n",
      "Name.............: RAM Format THS\n",
      "Reader...........: RAM reader with 2000 traces. Samples shape: (2000, 200) and metadatas: ['c', 's', 's0', 's1']\n",
      "c................: int32\n",
      "s................: int32\n",
      "s0...............: int32\n",
      "s1...............: int32\n",
      "\n"
     ]
    }
   ],
   "source": [
    "ths = scared_cu.lbc.simulated_traces.collect_traces_basemult(N=N, n=n, sigma=sigma, reduction=reduction, incomplete=incomplete,\n",
    "                              const_seed=True, two_step=False, seed=0, prng_off=prng_off, leak_reduction=True)\n",
    "\n",
    "print(ths)"
   ]
  },
  {
   "cell_type": "code",
   "execution_count": 8,
   "id": "5800c449-2e02-43f6-acbb-d580af3703a9",
   "metadata": {
    "metadata": {}
   },
   "outputs": [
    {
     "data": {
      "application/vnd.jupyter.widget-view+json": {
       "model_id": "700695e21f0141fb9c1713416cff7de6",
       "version_major": 2,
       "version_minor": 0
      },
      "text/plain": [
       "  0%|          | 0/100 [00:00<?, ?it/s]"
      ]
     },
     "metadata": {},
     "output_type": "display_data"
    },
    {
     "data": {
      "application/vnd.jupyter.widget-view+json": {
       "model_id": "1d3b41b68f7e4412abf0d2ffc3745db7",
       "version_major": 2,
       "version_minor": 0
      },
      "text/plain": [
       "  0%|          | 0/4 [00:00<?, ?it/s]"
      ]
     },
     "metadata": {},
     "output_type": "display_data"
    },
    {
     "name": "stdout",
     "output_type": "stream",
     "text": [
      "(2.397940008672037,1.0)(2.6989700043360183,1.0)(2.8750612633916997,1.0)(2.9999999999999996,1.0)(3.096910013008056,1.0)(3.176091259055681,1.0)(3.243038048686294,1.0)(3.301029995663981,1.0)\n",
      "-586-[6 7 5 4 3 1 2 0]\t\n"
     ]
    },
    {
     "data": {
      "application/vnd.jupyter.widget-view+json": {
       "model_id": "30a015231dc94bc1910a34206e9df9f0",
       "version_major": 2,
       "version_minor": 0
      },
      "text/plain": [
       "  0%|          | 0/4 [00:00<?, ?it/s]"
      ]
     },
     "metadata": {},
     "output_type": "display_data"
    },
    {
     "name": "stdout",
     "output_type": "stream",
     "text": [
      "(2.397940008672037,2.0)(2.6989700043360183,2.0)(2.8750612633916997,2.0)(2.9999999999999996,2.0)(3.096910013008056,2.0)(3.176091259055681,2.0)(3.243038048686294,2.0)(3.301029995663981,2.0)\n",
      "696-[7 6 5 4 3 2 1 0]\t\n"
     ]
    },
    {
     "data": {
      "application/vnd.jupyter.widget-view+json": {
       "model_id": "904902b39505445a80f73195c2389235",
       "version_major": 2,
       "version_minor": 0
      },
      "text/plain": [
       "  0%|          | 0/4 [00:00<?, ?it/s]"
      ]
     },
     "metadata": {},
     "output_type": "display_data"
    },
    {
     "name": "stdout",
     "output_type": "stream",
     "text": [
      "(2.397940008672037,3.0)(2.6989700043360183,3.0)(2.8750612633916997,3.0)(2.9999999999999996,3.0)(3.096910013008056,3.0)(3.176091259055681,3.0)(3.243038048686294,3.0)(3.301029995663981,3.0)\n",
      "298-[7 6 5 4 3 2 0 1]\t\n"
     ]
    },
    {
     "data": {
      "application/vnd.jupyter.widget-view+json": {
       "model_id": "e25d613cfd304f0bb649839fcea406ed",
       "version_major": 2,
       "version_minor": 0
      },
      "text/plain": [
       "  0%|          | 0/4 [00:00<?, ?it/s]"
      ]
     },
     "metadata": {},
     "output_type": "display_data"
    },
    {
     "name": "stdout",
     "output_type": "stream",
     "text": [
      "(2.397940008672037,4.0)(2.6989700043360183,4.0)(2.8750612633916997,4.0)(2.9999999999999996,4.0)(3.096910013008056,4.0)(3.176091259055681,4.0)(3.243038048686294,4.0)(3.301029995663981,4.0)\n",
      "-3-[5 7 6 4 3 2 1 0]\t\n"
     ]
    },
    {
     "data": {
      "application/vnd.jupyter.widget-view+json": {
       "model_id": "cfcf8597ff414556a84388ac1cd8bf47",
       "version_major": 2,
       "version_minor": 0
      },
      "text/plain": [
       "  0%|          | 0/4 [00:00<?, ?it/s]"
      ]
     },
     "metadata": {},
     "output_type": "display_data"
    },
    {
     "name": "stdout",
     "output_type": "stream",
     "text": [
      "(2.397940008672037,5.0)(2.6989700043360183,5.0)(2.8750612633916997,5.0)(2.9999999999999996,5.0)(3.096910013008056,5.0)(3.176091259055681,5.0)(3.243038048686294,5.0)(3.301029995663981,5.0)\n",
      "-466-[6 7 5 4 3 2 1 0]\t\n"
     ]
    },
    {
     "data": {
      "application/vnd.jupyter.widget-view+json": {
       "model_id": "6858c99abb6348e5bb34cdda9b51e3ff",
       "version_major": 2,
       "version_minor": 0
      },
      "text/plain": [
       "  0%|          | 0/4 [00:00<?, ?it/s]"
      ]
     },
     "metadata": {},
     "output_type": "display_data"
    },
    {
     "name": "stdout",
     "output_type": "stream",
     "text": [
      "(2.397940008672037,5.0)(2.6989700043360183,5.0)(2.8750612633916997,5.0)(2.9999999999999996,5.0)(3.096910013008056,5.0)(3.176091259055681,5.0)(3.243038048686294,5.0)(3.301029995663981,5.0)\n",
      "1340-[7 6 5 4 3 1 2 0]\t\n"
     ]
    },
    {
     "data": {
      "application/vnd.jupyter.widget-view+json": {
       "model_id": "ae44caea950345de91cfd43a9d391322",
       "version_major": 2,
       "version_minor": 0
      },
      "text/plain": [
       "  0%|          | 0/4 [00:00<?, ?it/s]"
      ]
     },
     "metadata": {},
     "output_type": "display_data"
    },
    {
     "name": "stdout",
     "output_type": "stream",
     "text": [
      "(2.397940008672037,6.0)(2.6989700043360183,6.0)(2.8750612633916997,6.0)(2.9999999999999996,6.0)(3.096910013008056,6.0)(3.176091259055681,6.0)(3.243038048686294,6.0)(3.301029995663981,6.0)\n",
      "449-[7 6 5 4 3 2 0 1]\t\n"
     ]
    },
    {
     "data": {
      "application/vnd.jupyter.widget-view+json": {
       "model_id": "578f96ed10ff41a3afbd883853a74ec4",
       "version_major": 2,
       "version_minor": 0
      },
      "text/plain": [
       "  0%|          | 0/4 [00:00<?, ?it/s]"
      ]
     },
     "metadata": {},
     "output_type": "display_data"
    },
    {
     "name": "stdout",
     "output_type": "stream",
     "text": [
      "(2.397940008672037,6.0)(2.6989700043360183,6.0)(2.8750612633916997,6.0)(2.9999999999999996,6.0)(3.096910013008056,6.0)(3.176091259055681,6.0)(3.243038048686294,6.0)(3.301029995663981,6.0)\n",
      "-1334-[6 5 7 3 4 2 1 0]\t\n"
     ]
    },
    {
     "data": {
      "application/vnd.jupyter.widget-view+json": {
       "model_id": "2072fbefbec6490191f5099f799a940c",
       "version_major": 2,
       "version_minor": 0
      },
      "text/plain": [
       "  0%|          | 0/4 [00:00<?, ?it/s]"
      ]
     },
     "metadata": {},
     "output_type": "display_data"
    },
    {
     "name": "stdout",
     "output_type": "stream",
     "text": [
      "(2.397940008672037,7.0)(2.6989700043360183,7.0)(2.8750612633916997,7.0)(2.9999999999999996,7.0)(3.096910013008056,7.0)(3.176091259055681,7.0)(3.243038048686294,7.0)(3.301029995663981,7.0)\n",
      "-15-[6 7 5 4 3 1 2 0]\t\n"
     ]
    },
    {
     "data": {
      "application/vnd.jupyter.widget-view+json": {
       "model_id": "586cc0148173483f88cb2580b78b2567",
       "version_major": 2,
       "version_minor": 0
      },
      "text/plain": [
       "  0%|          | 0/4 [00:00<?, ?it/s]"
      ]
     },
     "metadata": {},
     "output_type": "display_data"
    },
    {
     "name": "stdout",
     "output_type": "stream",
     "text": [
      "(2.397940008672037,8.0)(2.6989700043360183,8.0)(2.8750612633916997,8.0)(2.9999999999999996,8.0)(3.096910013008056,8.0)(3.176091259055681,8.0)(3.243038048686294,8.0)(3.301029995663981,8.0)\n",
      "-1019-[7 6 5 3 2 4 1 0]\t\n"
     ]
    },
    {
     "data": {
      "application/vnd.jupyter.widget-view+json": {
       "model_id": "c3c41ddec9e64d03b9f1c64fb15ce85c",
       "version_major": 2,
       "version_minor": 0
      },
      "text/plain": [
       "  0%|          | 0/4 [00:00<?, ?it/s]"
      ]
     },
     "metadata": {},
     "output_type": "display_data"
    },
    {
     "name": "stdout",
     "output_type": "stream",
     "text": [
      "(2.397940008672037,9.0)(2.6989700043360183,9.0)(2.8750612633916997,9.0)(2.9999999999999996,9.0)(3.096910013008056,9.0)(3.176091259055681,9.0)(3.243038048686294,9.0)(3.301029995663981,9.0)\n",
      "-721-[6 5 4 7 3 1 2 0]\t\n"
     ]
    },
    {
     "data": {
      "application/vnd.jupyter.widget-view+json": {
       "model_id": "0417e9687ab84043a9e0fbdd820cd661",
       "version_major": 2,
       "version_minor": 0
      },
      "text/plain": [
       "  0%|          | 0/4 [00:00<?, ?it/s]"
      ]
     },
     "metadata": {},
     "output_type": "display_data"
    },
    {
     "name": "stdout",
     "output_type": "stream",
     "text": [
      "(2.397940008672037,10.0)(2.6989700043360183,10.0)(2.8750612633916997,10.0)(2.9999999999999996,10.0)(3.096910013008056,10.0)(3.176091259055681,10.0)(3.243038048686294,10.0)(3.301029995663981,10.0)\n",
      "989-[6 7 5 3 4 2 1 0]\t\n"
     ]
    },
    {
     "data": {
      "application/vnd.jupyter.widget-view+json": {
       "model_id": "28f9cbc509d1485ebd5f27e499d69ae8",
       "version_major": 2,
       "version_minor": 0
      },
      "text/plain": [
       "  0%|          | 0/4 [00:00<?, ?it/s]"
      ]
     },
     "metadata": {},
     "output_type": "display_data"
    },
    {
     "name": "stdout",
     "output_type": "stream",
     "text": [
      "(2.397940008672037,11.0)(2.6989700043360183,11.0)(2.8750612633916997,11.0)(2.9999999999999996,11.0)(3.096910013008056,11.0)(3.176091259055681,11.0)(3.243038048686294,11.0)(3.301029995663981,11.0)\n",
      "-791-[7 6 5 4 3 2 1 0]\t\n"
     ]
    },
    {
     "data": {
      "application/vnd.jupyter.widget-view+json": {
       "model_id": "01afb7ff8d8340d89dbfa205d98d447e",
       "version_major": 2,
       "version_minor": 0
      },
      "text/plain": [
       "  0%|          | 0/4 [00:00<?, ?it/s]"
      ]
     },
     "metadata": {},
     "output_type": "display_data"
    },
    {
     "name": "stdout",
     "output_type": "stream",
     "text": [
      "(2.397940008672037,11.0)(2.6989700043360183,11.0)(2.8750612633916997,11.0)(2.9999999999999996,11.0)(3.096910013008056,11.0)(3.176091259055681,11.0)(3.243038048686294,11.0)(3.301029995663981,11.0)\n",
      "1266-[7 6 5 4 3 2 1 0]\t\n"
     ]
    },
    {
     "data": {
      "application/vnd.jupyter.widget-view+json": {
       "model_id": "7068b323201649c8b5217aa0e1e2ce64",
       "version_major": 2,
       "version_minor": 0
      },
      "text/plain": [
       "  0%|          | 0/4 [00:00<?, ?it/s]"
      ]
     },
     "metadata": {},
     "output_type": "display_data"
    },
    {
     "name": "stdout",
     "output_type": "stream",
     "text": [
      "(2.397940008672037,12.0)(2.6989700043360183,12.0)(2.8750612633916997,12.0)(2.9999999999999996,12.0)(3.096910013008056,12.0)(3.176091259055681,12.0)(3.243038048686294,12.0)(3.301029995663981,12.0)\n",
      "938-[7 6 4 5 3 2 1 0]\t\n"
     ]
    },
    {
     "data": {
      "application/vnd.jupyter.widget-view+json": {
       "model_id": "04321af970224b6285e98e4bbb75ca61",
       "version_major": 2,
       "version_minor": 0
      },
      "text/plain": [
       "  0%|          | 0/4 [00:00<?, ?it/s]"
      ]
     },
     "metadata": {},
     "output_type": "display_data"
    },
    {
     "name": "stdout",
     "output_type": "stream",
     "text": [
      "(2.397940008672037,12.0)(2.6989700043360183,12.0)(2.8750612633916997,12.0)(2.9999999999999996,12.0)(3.096910013008056,12.0)(3.176091259055681,12.0)(3.243038048686294,12.0)(3.301029995663981,12.0)\n",
      "1121-[7 6 5 4 3 1 2 0]\t\n"
     ]
    },
    {
     "data": {
      "application/vnd.jupyter.widget-view+json": {
       "model_id": "3fe1e1af07dd40e8b7b0113b32ebee02",
       "version_major": 2,
       "version_minor": 0
      },
      "text/plain": [
       "  0%|          | 0/4 [00:00<?, ?it/s]"
      ]
     },
     "metadata": {},
     "output_type": "display_data"
    },
    {
     "name": "stdout",
     "output_type": "stream",
     "text": [
      "(2.397940008672037,13.0)(2.6989700043360183,13.0)(2.8750612633916997,13.0)(2.9999999999999996,13.0)(3.096910013008056,13.0)(3.176091259055681,13.0)(3.243038048686294,13.0)(3.301029995663981,13.0)\n",
      "-293-[6 7 4 5 3 2 1 0]\t\n"
     ]
    },
    {
     "data": {
      "application/vnd.jupyter.widget-view+json": {
       "model_id": "0c09c0dd203a4fcfb56c0cef55ce7a3b",
       "version_major": 2,
       "version_minor": 0
      },
      "text/plain": [
       "  0%|          | 0/4 [00:00<?, ?it/s]"
      ]
     },
     "metadata": {},
     "output_type": "display_data"
    },
    {
     "name": "stdout",
     "output_type": "stream",
     "text": [
      "(2.397940008672037,13.0)(2.6989700043360183,13.0)(2.8750612633916997,13.0)(2.9999999999999996,13.0)(3.096910013008056,13.0)(3.176091259055681,13.0)(3.243038048686294,13.0)(3.301029995663981,13.0)\n",
      "1422-[7 5 6 4 3 1 2 0]\t\n"
     ]
    },
    {
     "data": {
      "application/vnd.jupyter.widget-view+json": {
       "model_id": "9d6c0e491b2c40719629e5aebc750156",
       "version_major": 2,
       "version_minor": 0
      },
      "text/plain": [
       "  0%|          | 0/4 [00:00<?, ?it/s]"
      ]
     },
     "metadata": {},
     "output_type": "display_data"
    },
    {
     "name": "stdout",
     "output_type": "stream",
     "text": [
      "(2.397940008672037,14.0)(2.6989700043360183,14.0)(2.8750612633916997,14.0)(2.9999999999999996,14.0)(3.096910013008056,14.0)(3.176091259055681,14.0)(3.243038048686294,14.0)(3.301029995663981,14.0)\n",
      "-644-[6 5 4 7 3 2 1 0]\t\n"
     ]
    },
    {
     "data": {
      "application/vnd.jupyter.widget-view+json": {
       "model_id": "0d3184bfc7914be190cbdb725827b16e",
       "version_major": 2,
       "version_minor": 0
      },
      "text/plain": [
       "  0%|          | 0/4 [00:00<?, ?it/s]"
      ]
     },
     "metadata": {},
     "output_type": "display_data"
    },
    {
     "name": "stdout",
     "output_type": "stream",
     "text": [
      "(2.397940008672037,15.0)(2.6989700043360183,15.0)(2.8750612633916997,15.0)(2.9999999999999996,15.0)(3.096910013008056,15.0)(3.176091259055681,15.0)(3.243038048686294,15.0)(3.301029995663981,15.0)\n",
      "-224-[7 6 5 4 1 3 2 0]\t\n"
     ]
    },
    {
     "data": {
      "application/vnd.jupyter.widget-view+json": {
       "model_id": "3a90cd86724747beb7e9fdaef01923eb",
       "version_major": 2,
       "version_minor": 0
      },
      "text/plain": [
       "  0%|          | 0/4 [00:00<?, ?it/s]"
      ]
     },
     "metadata": {},
     "output_type": "display_data"
    },
    {
     "name": "stdout",
     "output_type": "stream",
     "text": [
      "(2.397940008672037,15.0)(2.6989700043360183,15.0)(2.8750612633916997,15.0)(2.9999999999999996,15.0)(3.096910013008056,15.0)(3.176091259055681,15.0)(3.243038048686294,15.0)(3.301029995663981,15.0)\n",
      "1603-[7 6 4 3 5 2 1 0]\t\n"
     ]
    },
    {
     "data": {
      "application/vnd.jupyter.widget-view+json": {
       "model_id": "d1ffabfcf8934368adb8f46b92a677ef",
       "version_major": 2,
       "version_minor": 0
      },
      "text/plain": [
       "  0%|          | 0/4 [00:00<?, ?it/s]"
      ]
     },
     "metadata": {},
     "output_type": "display_data"
    },
    {
     "name": "stdout",
     "output_type": "stream",
     "text": [
      "(2.397940008672037,16.0)(2.6989700043360183,16.0)(2.8750612633916997,16.0)(2.9999999999999996,16.0)(3.096910013008056,16.0)(3.176091259055681,16.0)(3.243038048686294,16.0)(3.301029995663981,16.0)\n",
      "67-[7 5 6 4 3 2 1 0]\t\n"
     ]
    },
    {
     "data": {
      "application/vnd.jupyter.widget-view+json": {
       "model_id": "ec1e811f097f4a3686e563a312cac2a0",
       "version_major": 2,
       "version_minor": 0
      },
      "text/plain": [
       "  0%|          | 0/4 [00:00<?, ?it/s]"
      ]
     },
     "metadata": {},
     "output_type": "display_data"
    },
    {
     "name": "stdout",
     "output_type": "stream",
     "text": [
      "(2.397940008672037,17.0)(2.6989700043360183,17.0)(2.8750612633916997,17.0)(2.9999999999999996,17.0)(3.096910013008056,17.0)(3.176091259055681,17.0)(3.243038048686294,17.0)(3.301029995663981,17.0)\n",
      "713-[7 6 5 4 3 2 1 0]\t\n"
     ]
    },
    {
     "data": {
      "application/vnd.jupyter.widget-view+json": {
       "model_id": "1fef6e68f68043678a6dff2ea8cee708",
       "version_major": 2,
       "version_minor": 0
      },
      "text/plain": [
       "  0%|          | 0/4 [00:00<?, ?it/s]"
      ]
     },
     "metadata": {},
     "output_type": "display_data"
    },
    {
     "name": "stdout",
     "output_type": "stream",
     "text": [
      "(2.397940008672037,18.0)(2.6989700043360183,18.0)(2.8750612633916997,18.0)(2.9999999999999996,18.0)(3.096910013008056,18.0)(3.176091259055681,18.0)(3.243038048686294,18.0)(3.301029995663981,18.0)\n",
      "-612-[6 7 5 4 3 2 1 0]\t\n"
     ]
    },
    {
     "data": {
      "application/vnd.jupyter.widget-view+json": {
       "model_id": "20c02ab8662746bab42e43a9329eaedf",
       "version_major": 2,
       "version_minor": 0
      },
      "text/plain": [
       "  0%|          | 0/4 [00:00<?, ?it/s]"
      ]
     },
     "metadata": {},
     "output_type": "display_data"
    },
    {
     "name": "stdout",
     "output_type": "stream",
     "text": [
      "(2.397940008672037,19.0)(2.6989700043360183,19.0)(2.8750612633916997,19.0)(2.9999999999999996,19.0)(3.096910013008056,19.0)(3.176091259055681,19.0)(3.243038048686294,19.0)(3.301029995663981,19.0)\n",
      "-939-[6 7 4 5 3 1 2 0]\t\n"
     ]
    },
    {
     "data": {
      "application/vnd.jupyter.widget-view+json": {
       "model_id": "e5af5731cd3d42fe91a1692a84293928",
       "version_major": 2,
       "version_minor": 0
      },
      "text/plain": [
       "  0%|          | 0/4 [00:00<?, ?it/s]"
      ]
     },
     "metadata": {},
     "output_type": "display_data"
    },
    {
     "name": "stdout",
     "output_type": "stream",
     "text": [
      "(2.397940008672037,20.0)(2.6989700043360183,20.0)(2.8750612633916997,20.0)(2.9999999999999996,20.0)(3.096910013008056,20.0)(3.176091259055681,20.0)(3.243038048686294,20.0)(3.301029995663981,20.0)\n",
      "-380-[6 5 7 4 3 2 1 0]\t\n"
     ]
    },
    {
     "data": {
      "application/vnd.jupyter.widget-view+json": {
       "model_id": "bf0d1a8ccc0e4e7eb881b32af6821ebf",
       "version_major": 2,
       "version_minor": 0
      },
      "text/plain": [
       "  0%|          | 0/4 [00:00<?, ?it/s]"
      ]
     },
     "metadata": {},
     "output_type": "display_data"
    },
    {
     "name": "stdout",
     "output_type": "stream",
     "text": [
      "(2.397940008672037,20.0)(2.6989700043360183,20.0)(2.8750612633916997,20.0)(2.9999999999999996,20.0)(3.096910013008056,20.0)(3.176091259055681,20.0)(3.243038048686294,20.0)(3.301029995663981,20.0)\n",
      "-1622-[6 7 5 4 2 3 1 0]\t\n"
     ]
    },
    {
     "data": {
      "application/vnd.jupyter.widget-view+json": {
       "model_id": "bc1e61cdda3c453588bb9e326d9cee91",
       "version_major": 2,
       "version_minor": 0
      },
      "text/plain": [
       "  0%|          | 0/4 [00:00<?, ?it/s]"
      ]
     },
     "metadata": {},
     "output_type": "display_data"
    },
    {
     "name": "stdout",
     "output_type": "stream",
     "text": [
      "(2.397940008672037,21.0)(2.6989700043360183,21.0)(2.8750612633916997,21.0)(2.9999999999999996,21.0)(3.096910013008056,21.0)(3.176091259055681,21.0)(3.243038048686294,21.0)(3.301029995663981,21.0)\n",
      "-215-[7 6 5 4 2 3 1 0]\t\n"
     ]
    },
    {
     "data": {
      "application/vnd.jupyter.widget-view+json": {
       "model_id": "5e9c1058dae845d1a2077238bee0c690",
       "version_major": 2,
       "version_minor": 0
      },
      "text/plain": [
       "  0%|          | 0/4 [00:00<?, ?it/s]"
      ]
     },
     "metadata": {},
     "output_type": "display_data"
    },
    {
     "name": "stdout",
     "output_type": "stream",
     "text": [
      "(2.397940008672037,21.0)(2.6989700043360183,21.0)(2.8750612633916997,21.0)(2.9999999999999996,21.0)(3.096910013008056,21.0)(3.176091259055681,21.0)(3.243038048686294,21.0)(3.301029995663981,21.0)\n",
      "1264-[7 5 6 4 3 2 1 0]\t\n"
     ]
    },
    {
     "data": {
      "application/vnd.jupyter.widget-view+json": {
       "model_id": "7fd6e7ef1498486da63a5b987e851344",
       "version_major": 2,
       "version_minor": 0
      },
      "text/plain": [
       "  0%|          | 0/4 [00:00<?, ?it/s]"
      ]
     },
     "metadata": {},
     "output_type": "display_data"
    },
    {
     "name": "stdout",
     "output_type": "stream",
     "text": [
      "(2.397940008672037,21.0)(2.6989700043360183,21.0)(2.8750612633916997,21.0)(2.9999999999999996,21.0)(3.096910013008056,21.0)(3.176091259055681,21.0)(3.243038048686294,21.0)(3.301029995663981,21.0)\n",
      "1031-[7 5 6 2 4 3 1 0]\t\n"
     ]
    },
    {
     "data": {
      "application/vnd.jupyter.widget-view+json": {
       "model_id": "4352cca7cd234ef3ae65f137022c78fe",
       "version_major": 2,
       "version_minor": 0
      },
      "text/plain": [
       "  0%|          | 0/4 [00:00<?, ?it/s]"
      ]
     },
     "metadata": {},
     "output_type": "display_data"
    },
    {
     "name": "stdout",
     "output_type": "stream",
     "text": [
      "(2.397940008672037,22.0)(2.6989700043360183,22.0)(2.8750612633916997,22.0)(2.9999999999999996,22.0)(3.096910013008056,22.0)(3.176091259055681,22.0)(3.243038048686294,22.0)(3.301029995663981,22.0)\n",
      "-278-[7 6 2 4 3 5 1 0]\t\n"
     ]
    },
    {
     "data": {
      "application/vnd.jupyter.widget-view+json": {
       "model_id": "42e364cdd7bb4533927613bc708b1bb4",
       "version_major": 2,
       "version_minor": 0
      },
      "text/plain": [
       "  0%|          | 0/4 [00:00<?, ?it/s]"
      ]
     },
     "metadata": {},
     "output_type": "display_data"
    },
    {
     "name": "stdout",
     "output_type": "stream",
     "text": [
      "(2.397940008672037,23.0)(2.6989700043360183,23.0)(2.8750612633916997,23.0)(2.9999999999999996,23.0)(3.096910013008056,23.0)(3.176091259055681,23.0)(3.243038048686294,23.0)(3.301029995663981,23.0)\n",
      "-920-[7 6 5 4 3 2 1 0]\t\n"
     ]
    },
    {
     "data": {
      "application/vnd.jupyter.widget-view+json": {
       "model_id": "ae9a390b55484200b673051ac6892b5b",
       "version_major": 2,
       "version_minor": 0
      },
      "text/plain": [
       "  0%|          | 0/4 [00:00<?, ?it/s]"
      ]
     },
     "metadata": {},
     "output_type": "display_data"
    },
    {
     "name": "stdout",
     "output_type": "stream",
     "text": [
      "(2.397940008672037,23.0)(2.6989700043360183,23.0)(2.8750612633916997,23.0)(2.9999999999999996,23.0)(3.096910013008056,23.0)(3.176091259055681,23.0)(3.243038048686294,23.0)(3.301029995663981,23.0)\n",
      "-1650-[5 6 7 4 3 2 1 0]\t\n"
     ]
    },
    {
     "data": {
      "application/vnd.jupyter.widget-view+json": {
       "model_id": "2472bc0c22fc4070a6298e8b8bb31996",
       "version_major": 2,
       "version_minor": 0
      },
      "text/plain": [
       "  0%|          | 0/4 [00:00<?, ?it/s]"
      ]
     },
     "metadata": {},
     "output_type": "display_data"
    },
    {
     "name": "stdout",
     "output_type": "stream",
     "text": [
      "(2.397940008672037,23.0)(2.6989700043360183,23.0)(2.8750612633916997,23.0)(2.9999999999999996,23.0)(3.096910013008056,23.0)(3.176091259055681,23.0)(3.243038048686294,23.0)(3.301029995663981,23.0)\n",
      "1179-[7 6 3 5 2 4 1 0]\t\n"
     ]
    },
    {
     "data": {
      "application/vnd.jupyter.widget-view+json": {
       "model_id": "5bfad3f2197943aab8820338ae9bdc4b",
       "version_major": 2,
       "version_minor": 0
      },
      "text/plain": [
       "  0%|          | 0/4 [00:00<?, ?it/s]"
      ]
     },
     "metadata": {},
     "output_type": "display_data"
    },
    {
     "name": "stdout",
     "output_type": "stream",
     "text": [
      "(2.397940008672037,24.0)(2.6989700043360183,24.0)(2.8750612633916997,24.0)(2.9999999999999996,24.0)(3.096910013008056,24.0)(3.176091259055681,24.0)(3.243038048686294,24.0)(3.301029995663981,24.0)\n",
      "-490-[7 6 5 4 3 2 1 0]\t\n"
     ]
    },
    {
     "data": {
      "application/vnd.jupyter.widget-view+json": {
       "model_id": "5b2082cd5d9645eeb5b8a93c85fcea8d",
       "version_major": 2,
       "version_minor": 0
      },
      "text/plain": [
       "  0%|          | 0/4 [00:00<?, ?it/s]"
      ]
     },
     "metadata": {},
     "output_type": "display_data"
    },
    {
     "name": "stdout",
     "output_type": "stream",
     "text": [
      "(2.397940008672037,24.0)(2.6989700043360183,24.0)(2.8750612633916997,24.0)(2.9999999999999996,24.0)(3.096910013008056,24.0)(3.176091259055681,24.0)(3.243038048686294,24.0)(3.301029995663981,24.0)\n",
      "-1348-[7 6 5 3 4 2 1 0]\t\n"
     ]
    },
    {
     "data": {
      "application/vnd.jupyter.widget-view+json": {
       "model_id": "0f7ae9c1ca8b496caf070d3b424e94e5",
       "version_major": 2,
       "version_minor": 0
      },
      "text/plain": [
       "  0%|          | 0/4 [00:00<?, ?it/s]"
      ]
     },
     "metadata": {},
     "output_type": "display_data"
    },
    {
     "name": "stdout",
     "output_type": "stream",
     "text": [
      "(2.397940008672037,24.0)(2.6989700043360183,24.0)(2.8750612633916997,24.0)(2.9999999999999996,24.0)(3.096910013008056,24.0)(3.176091259055681,24.0)(3.243038048686294,24.0)(3.301029995663981,24.0)\n",
      "-1328-[6 7 5 4 3 2 1 0]\t\n"
     ]
    },
    {
     "data": {
      "application/vnd.jupyter.widget-view+json": {
       "model_id": "613350ca533e4f2d9d0ed4f1e7245309",
       "version_major": 2,
       "version_minor": 0
      },
      "text/plain": [
       "  0%|          | 0/4 [00:00<?, ?it/s]"
      ]
     },
     "metadata": {},
     "output_type": "display_data"
    },
    {
     "name": "stdout",
     "output_type": "stream",
     "text": [
      "(2.397940008672037,24.0)(2.6989700043360183,24.0)(2.8750612633916997,24.0)(2.9999999999999996,24.0)(3.096910013008056,24.0)(3.176091259055681,24.0)(3.243038048686294,24.0)(3.301029995663981,24.0)\n",
      "1148-[7 6 4 5 3 2 1 0]\t\n"
     ]
    },
    {
     "data": {
      "application/vnd.jupyter.widget-view+json": {
       "model_id": "171088f49b1c43ca86f2be7bde8dbebd",
       "version_major": 2,
       "version_minor": 0
      },
      "text/plain": [
       "  0%|          | 0/4 [00:00<?, ?it/s]"
      ]
     },
     "metadata": {},
     "output_type": "display_data"
    },
    {
     "name": "stdout",
     "output_type": "stream",
     "text": [
      "(2.397940008672037,25.0)(2.6989700043360183,25.0)(2.8750612633916997,25.0)(2.9999999999999996,25.0)(3.096910013008056,25.0)(3.176091259055681,25.0)(3.243038048686294,25.0)(3.301029995663981,25.0)\n",
      "-226-[6 7 5 4 3 2 1 0]\t\n"
     ]
    },
    {
     "data": {
      "application/vnd.jupyter.widget-view+json": {
       "model_id": "c5c59b0742e34c5f86c767aa81f10e21",
       "version_major": 2,
       "version_minor": 0
      },
      "text/plain": [
       "  0%|          | 0/4 [00:00<?, ?it/s]"
      ]
     },
     "metadata": {},
     "output_type": "display_data"
    },
    {
     "name": "stdout",
     "output_type": "stream",
     "text": [
      "(2.397940008672037,26.0)(2.6989700043360183,26.0)(2.8750612633916997,26.0)(2.9999999999999996,26.0)(3.096910013008056,26.0)(3.176091259055681,26.0)(3.243038048686294,26.0)(3.301029995663981,26.0)\n",
      "-914-[6 7 5 4 3 1 2 0]\t\n"
     ]
    },
    {
     "data": {
      "application/vnd.jupyter.widget-view+json": {
       "model_id": "c8f28c96c44147ddbfc2c8bba8029137",
       "version_major": 2,
       "version_minor": 0
      },
      "text/plain": [
       "  0%|          | 0/4 [00:00<?, ?it/s]"
      ]
     },
     "metadata": {},
     "output_type": "display_data"
    },
    {
     "name": "stdout",
     "output_type": "stream",
     "text": [
      "(2.397940008672037,27.0)(2.6989700043360183,27.0)(2.8750612633916997,27.0)(2.9999999999999996,27.0)(3.096910013008056,27.0)(3.176091259055681,27.0)(3.243038048686294,27.0)(3.301029995663981,27.0)\n",
      "-456-[7 6 5 4 3 2 1 0]\t\n"
     ]
    },
    {
     "data": {
      "application/vnd.jupyter.widget-view+json": {
       "model_id": "25f79872643c4b2f91b1d43dc36a9631",
       "version_major": 2,
       "version_minor": 0
      },
      "text/plain": [
       "  0%|          | 0/4 [00:00<?, ?it/s]"
      ]
     },
     "metadata": {},
     "output_type": "display_data"
    },
    {
     "name": "stdout",
     "output_type": "stream",
     "text": [
      "(2.397940008672037,27.0)(2.6989700043360183,27.0)(2.8750612633916997,27.0)(2.9999999999999996,27.0)(3.096910013008056,27.0)(3.176091259055681,27.0)(3.243038048686294,27.0)(3.301029995663981,27.0)\n",
      "1197-[7 6 5 4 3 1 2 0]\t\n"
     ]
    },
    {
     "data": {
      "application/vnd.jupyter.widget-view+json": {
       "model_id": "dd8edf7fba1642a88632dc4f51722dca",
       "version_major": 2,
       "version_minor": 0
      },
      "text/plain": [
       "  0%|          | 0/4 [00:00<?, ?it/s]"
      ]
     },
     "metadata": {},
     "output_type": "display_data"
    },
    {
     "name": "stdout",
     "output_type": "stream",
     "text": [
      "(2.397940008672037,28.0)(2.6989700043360183,28.0)(2.8750612633916997,28.0)(2.9999999999999996,28.0)(3.096910013008056,28.0)(3.176091259055681,28.0)(3.243038048686294,28.0)(3.301029995663981,28.0)\n",
      "-83-[7 6 5 3 4 2 1 0]\t\n"
     ]
    },
    {
     "data": {
      "application/vnd.jupyter.widget-view+json": {
       "model_id": "d2ab36d29c9d45c597e6edbd794424a7",
       "version_major": 2,
       "version_minor": 0
      },
      "text/plain": [
       "  0%|          | 0/4 [00:00<?, ?it/s]"
      ]
     },
     "metadata": {},
     "output_type": "display_data"
    },
    {
     "name": "stdout",
     "output_type": "stream",
     "text": [
      "(2.397940008672037,28.0)(2.6989700043360183,28.0)(2.8750612633916997,28.0)(2.9999999999999996,28.0)(3.096910013008056,28.0)(3.176091259055681,28.0)(3.243038048686294,28.0)(3.301029995663981,28.0)\n",
      "1096-[6 7 5 4 3 2 1 0]\t\n"
     ]
    },
    {
     "data": {
      "application/vnd.jupyter.widget-view+json": {
       "model_id": "9a17c9b7c8cb4a75b460d4eae874d84f",
       "version_major": 2,
       "version_minor": 0
      },
      "text/plain": [
       "  0%|          | 0/4 [00:00<?, ?it/s]"
      ]
     },
     "metadata": {},
     "output_type": "display_data"
    },
    {
     "name": "stdout",
     "output_type": "stream",
     "text": [
      "(2.397940008672037,29.0)(2.6989700043360183,29.0)(2.8750612633916997,29.0)(2.9999999999999996,29.0)(3.096910013008056,29.0)(3.176091259055681,29.0)(3.243038048686294,29.0)(3.301029995663981,29.0)\n",
      "-869-[6 3 5 4 7 2 1 0]\t\n"
     ]
    },
    {
     "data": {
      "application/vnd.jupyter.widget-view+json": {
       "model_id": "d627e9aac06b4a11a3102cf8c2ddb1bc",
       "version_major": 2,
       "version_minor": 0
      },
      "text/plain": [
       "  0%|          | 0/4 [00:00<?, ?it/s]"
      ]
     },
     "metadata": {},
     "output_type": "display_data"
    },
    {
     "name": "stdout",
     "output_type": "stream",
     "text": [
      "(2.397940008672037,30.0)(2.6989700043360183,30.0)(2.8750612633916997,30.0)(2.9999999999999996,30.0)(3.096910013008056,30.0)(3.176091259055681,30.0)(3.243038048686294,30.0)(3.301029995663981,30.0)\n",
      "133-[6 7 4 5 3 2 1 0]\t\n"
     ]
    },
    {
     "data": {
      "application/vnd.jupyter.widget-view+json": {
       "model_id": "fc149aeae5d84833b588d2f0ac0604c2",
       "version_major": 2,
       "version_minor": 0
      },
      "text/plain": [
       "  0%|          | 0/4 [00:00<?, ?it/s]"
      ]
     },
     "metadata": {},
     "output_type": "display_data"
    },
    {
     "name": "stdout",
     "output_type": "stream",
     "text": [
      "(2.397940008672037,31.0)(2.6989700043360183,31.0)(2.8750612633916997,31.0)(2.9999999999999996,31.0)(3.096910013008056,31.0)(3.176091259055681,31.0)(3.243038048686294,31.0)(3.301029995663981,31.0)\n",
      "-928-[5 6 7 4 3 2 1 0]\t\n"
     ]
    },
    {
     "data": {
      "application/vnd.jupyter.widget-view+json": {
       "model_id": "52e139308d3a4876835874a9581a9a7f",
       "version_major": 2,
       "version_minor": 0
      },
      "text/plain": [
       "  0%|          | 0/4 [00:00<?, ?it/s]"
      ]
     },
     "metadata": {},
     "output_type": "display_data"
    },
    {
     "name": "stdout",
     "output_type": "stream",
     "text": [
      "(2.397940008672037,31.0)(2.6989700043360183,31.0)(2.8750612633916997,31.0)(2.9999999999999996,31.0)(3.096910013008056,31.0)(3.176091259055681,31.0)(3.243038048686294,31.0)(3.301029995663981,31.0)\n",
      "-1558-[7 5 6 4 3 2 1 0]\t\n"
     ]
    },
    {
     "data": {
      "application/vnd.jupyter.widget-view+json": {
       "model_id": "de8ef489358646af9d766fc4df6b4a0c",
       "version_major": 2,
       "version_minor": 0
      },
      "text/plain": [
       "  0%|          | 0/4 [00:00<?, ?it/s]"
      ]
     },
     "metadata": {},
     "output_type": "display_data"
    },
    {
     "name": "stdout",
     "output_type": "stream",
     "text": [
      "(2.397940008672037,32.0)(2.6989700043360183,32.0)(2.8750612633916997,32.0)(2.9999999999999996,32.0)(3.096910013008056,32.0)(3.176091259055681,32.0)(3.243038048686294,32.0)(3.301029995663981,32.0)\n",
      "-265-[6 7 5 4 3 1 2 0]\t\n"
     ]
    },
    {
     "data": {
      "application/vnd.jupyter.widget-view+json": {
       "model_id": "40ed722587fa4a6d9745dc81400425ad",
       "version_major": 2,
       "version_minor": 0
      },
      "text/plain": [
       "  0%|          | 0/4 [00:00<?, ?it/s]"
      ]
     },
     "metadata": {},
     "output_type": "display_data"
    },
    {
     "name": "stdout",
     "output_type": "stream",
     "text": [
      "(2.397940008672037,33.0)(2.6989700043360183,33.0)(2.8750612633916997,33.0)(2.9999999999999996,33.0)(3.096910013008056,33.0)(3.176091259055681,33.0)(3.243038048686294,33.0)(3.301029995663981,33.0)\n",
      "-832-[7 6 5 4 3 2 1 0]\t\n"
     ]
    },
    {
     "data": {
      "application/vnd.jupyter.widget-view+json": {
       "model_id": "0dd831bdf9f844c8949c6caa24b921c9",
       "version_major": 2,
       "version_minor": 0
      },
      "text/plain": [
       "  0%|          | 0/4 [00:00<?, ?it/s]"
      ]
     },
     "metadata": {},
     "output_type": "display_data"
    },
    {
     "name": "stdout",
     "output_type": "stream",
     "text": [
      "(2.397940008672037,34.0)(2.6989700043360183,34.0)(2.8750612633916997,34.0)(2.9999999999999996,34.0)(3.096910013008056,34.0)(3.176091259055681,34.0)(3.243038048686294,34.0)(3.301029995663981,34.0)\n",
      "294-[5 4 7 6 3 2 1 0]\t\n"
     ]
    },
    {
     "data": {
      "application/vnd.jupyter.widget-view+json": {
       "model_id": "16f00c779e6c4fd3a6def231a02e3f06",
       "version_major": 2,
       "version_minor": 0
      },
      "text/plain": [
       "  0%|          | 0/4 [00:00<?, ?it/s]"
      ]
     },
     "metadata": {},
     "output_type": "display_data"
    },
    {
     "name": "stdout",
     "output_type": "stream",
     "text": [
      "(2.397940008672037,35.0)(2.6989700043360183,35.0)(2.8750612633916997,35.0)(2.9999999999999996,35.0)(3.096910013008056,35.0)(3.176091259055681,35.0)(3.243038048686294,35.0)(3.301029995663981,35.0)\n",
      "-594-[7 4 6 3 5 2 1 0]\t\n"
     ]
    },
    {
     "data": {
      "application/vnd.jupyter.widget-view+json": {
       "model_id": "ea57113daf504a278503fe682f061d78",
       "version_major": 2,
       "version_minor": 0
      },
      "text/plain": [
       "  0%|          | 0/4 [00:00<?, ?it/s]"
      ]
     },
     "metadata": {},
     "output_type": "display_data"
    },
    {
     "name": "stdout",
     "output_type": "stream",
     "text": [
      "(2.397940008672037,36.0)(2.6989700043360183,36.0)(2.8750612633916997,36.0)(2.9999999999999996,36.0)(3.096910013008056,36.0)(3.176091259055681,36.0)(3.243038048686294,36.0)(3.301029995663981,36.0)\n",
      "-902-[7 6 5 4 3 2 1 0]\t\n"
     ]
    },
    {
     "data": {
      "application/vnd.jupyter.widget-view+json": {
       "model_id": "96e9fa512bac4e6bbac0a57ee756e4e6",
       "version_major": 2,
       "version_minor": 0
      },
      "text/plain": [
       "  0%|          | 0/4 [00:00<?, ?it/s]"
      ]
     },
     "metadata": {},
     "output_type": "display_data"
    },
    {
     "name": "stdout",
     "output_type": "stream",
     "text": [
      "(2.397940008672037,37.0)(2.6989700043360183,37.0)(2.8750612633916997,37.0)(2.9999999999999996,37.0)(3.096910013008056,37.0)(3.176091259055681,37.0)(3.243038048686294,37.0)(3.301029995663981,37.0)\n",
      "-80-[7 5 6 4 3 2 1 0]\t\n"
     ]
    },
    {
     "data": {
      "application/vnd.jupyter.widget-view+json": {
       "model_id": "36f76703063b43e7a1835fd1d89fc29a",
       "version_major": 2,
       "version_minor": 0
      },
      "text/plain": [
       "  0%|          | 0/4 [00:00<?, ?it/s]"
      ]
     },
     "metadata": {},
     "output_type": "display_data"
    },
    {
     "name": "stdout",
     "output_type": "stream",
     "text": [
      "(2.397940008672037,38.0)(2.6989700043360183,38.0)(2.8750612633916997,38.0)(2.9999999999999996,38.0)(3.096910013008056,38.0)(3.176091259055681,38.0)(3.243038048686294,38.0)(3.301029995663981,38.0)\n",
      "-47-[7 3 5 2 4 6 1 0]\t\n"
     ]
    },
    {
     "data": {
      "application/vnd.jupyter.widget-view+json": {
       "model_id": "fc6e8f5d184f48ce83baccae1c69a25b",
       "version_major": 2,
       "version_minor": 0
      },
      "text/plain": [
       "  0%|          | 0/4 [00:00<?, ?it/s]"
      ]
     },
     "metadata": {},
     "output_type": "display_data"
    },
    {
     "name": "stdout",
     "output_type": "stream",
     "text": [
      "(2.397940008672037,39.0)(2.6989700043360183,39.0)(2.8750612633916997,39.0)(2.9999999999999996,39.0)(3.096910013008056,39.0)(3.176091259055681,39.0)(3.243038048686294,39.0)(3.301029995663981,39.0)\n",
      "-272-[5 6 4 7 3 2 1 0]\t\n"
     ]
    },
    {
     "data": {
      "application/vnd.jupyter.widget-view+json": {
       "model_id": "d12b45f8c2ca461dabb7c34edb63013d",
       "version_major": 2,
       "version_minor": 0
      },
      "text/plain": [
       "  0%|          | 0/4 [00:00<?, ?it/s]"
      ]
     },
     "metadata": {},
     "output_type": "display_data"
    },
    {
     "name": "stdout",
     "output_type": "stream",
     "text": [
      "(2.397940008672037,39.0)(2.6989700043360183,39.0)(2.8750612633916997,39.0)(2.9999999999999996,39.0)(3.096910013008056,39.0)(3.176091259055681,39.0)(3.243038048686294,39.0)(3.301029995663981,39.0)\n",
      "-1584-[7 6 5 4 3 2 1 0]\t\n"
     ]
    },
    {
     "data": {
      "application/vnd.jupyter.widget-view+json": {
       "model_id": "b8429ea7b4ad4ee28d9e9c3e09235b00",
       "version_major": 2,
       "version_minor": 0
      },
      "text/plain": [
       "  0%|          | 0/4 [00:00<?, ?it/s]"
      ]
     },
     "metadata": {},
     "output_type": "display_data"
    },
    {
     "name": "stdout",
     "output_type": "stream",
     "text": [
      "(2.397940008672037,40.0)(2.6989700043360183,40.0)(2.8750612633916997,40.0)(2.9999999999999996,40.0)(3.096910013008056,40.0)(3.176091259055681,40.0)(3.243038048686294,40.0)(3.301029995663981,40.0)\n",
      "-521-[7 6 3 4 5 2 1 0]\t\n"
     ]
    },
    {
     "data": {
      "application/vnd.jupyter.widget-view+json": {
       "model_id": "dc7311834a2d4412897a48d4e72c3225",
       "version_major": 2,
       "version_minor": 0
      },
      "text/plain": [
       "  0%|          | 0/4 [00:00<?, ?it/s]"
      ]
     },
     "metadata": {},
     "output_type": "display_data"
    },
    {
     "name": "stdout",
     "output_type": "stream",
     "text": [
      "(2.397940008672037,40.0)(2.6989700043360183,40.0)(2.8750612633916997,40.0)(2.9999999999999996,40.0)(3.096910013008056,40.0)(3.176091259055681,40.0)(3.243038048686294,40.0)(3.301029995663981,40.0)\n",
      "1137-[7 6 5 4 2 1 3 0]\t\n"
     ]
    },
    {
     "data": {
      "application/vnd.jupyter.widget-view+json": {
       "model_id": "df89e596d2344e7baf7cc41bd71584cb",
       "version_major": 2,
       "version_minor": 0
      },
      "text/plain": [
       "  0%|          | 0/4 [00:00<?, ?it/s]"
      ]
     },
     "metadata": {},
     "output_type": "display_data"
    },
    {
     "name": "stdout",
     "output_type": "stream",
     "text": [
      "(2.397940008672037,41.0)(2.6989700043360183,41.0)(2.8750612633916997,41.0)(2.9999999999999996,41.0)(3.096910013008056,41.0)(3.176091259055681,41.0)(3.243038048686294,41.0)(3.301029995663981,41.0)\n",
      "-566-[6 4 7 5 3 2 1 0]\t\n"
     ]
    },
    {
     "data": {
      "application/vnd.jupyter.widget-view+json": {
       "model_id": "238518abdea442f79fb10dcccd96f6a9",
       "version_major": 2,
       "version_minor": 0
      },
      "text/plain": [
       "  0%|          | 0/4 [00:00<?, ?it/s]"
      ]
     },
     "metadata": {},
     "output_type": "display_data"
    },
    {
     "name": "stdout",
     "output_type": "stream",
     "text": [
      "(2.397940008672037,42.0)(2.6989700043360183,42.0)(2.8750612633916997,42.0)(2.9999999999999996,42.0)(3.096910013008056,42.0)(3.176091259055681,42.0)(3.243038048686294,42.0)(3.301029995663981,42.0)\n",
      "221-[7 6 3 5 2 4 1 0]\t\n"
     ]
    },
    {
     "data": {
      "application/vnd.jupyter.widget-view+json": {
       "model_id": "9385102c2ee542e09bf88279e56160e9",
       "version_major": 2,
       "version_minor": 0
      },
      "text/plain": [
       "  0%|          | 0/4 [00:00<?, ?it/s]"
      ]
     },
     "metadata": {},
     "output_type": "display_data"
    },
    {
     "name": "stdout",
     "output_type": "stream",
     "text": [
      "(2.397940008672037,42.0)(2.6989700043360183,42.0)(2.8750612633916997,42.0)(2.9999999999999996,42.0)(3.096910013008056,42.0)(3.176091259055681,42.0)(3.243038048686294,42.0)(3.301029995663981,42.0)\n",
      "-1632-[7 6 5 4 3 2 1 0]\t\n"
     ]
    },
    {
     "data": {
      "application/vnd.jupyter.widget-view+json": {
       "model_id": "cef53e340ab542b1bcd3b8efeca8794d",
       "version_major": 2,
       "version_minor": 0
      },
      "text/plain": [
       "  0%|          | 0/4 [00:00<?, ?it/s]"
      ]
     },
     "metadata": {},
     "output_type": "display_data"
    },
    {
     "name": "stdout",
     "output_type": "stream",
     "text": [
      "(2.397940008672037,43.0)(2.6989700043360183,43.0)(2.8750612633916997,43.0)(2.9999999999999996,43.0)(3.096910013008056,43.0)(3.176091259055681,43.0)(3.243038048686294,43.0)(3.301029995663981,43.0)\n",
      "-968-[7 6 5 4 3 2 1 0]\t\n"
     ]
    },
    {
     "data": {
      "application/vnd.jupyter.widget-view+json": {
       "model_id": "9b85618dc08445c7aedad0acad10fe82",
       "version_major": 2,
       "version_minor": 0
      },
      "text/plain": [
       "  0%|          | 0/4 [00:00<?, ?it/s]"
      ]
     },
     "metadata": {},
     "output_type": "display_data"
    },
    {
     "name": "stdout",
     "output_type": "stream",
     "text": [
      "(2.397940008672037,44.0)(2.6989700043360183,44.0)(2.8750612633916997,44.0)(2.9999999999999996,44.0)(3.096910013008056,44.0)(3.176091259055681,44.0)(3.243038048686294,44.0)(3.301029995663981,44.0)\n",
      "-128-[7 6 5 4 3 2 1 0]\t\n"
     ]
    },
    {
     "data": {
      "application/vnd.jupyter.widget-view+json": {
       "model_id": "d3c466cf93fe4d90ab4e61bd62d82fc9",
       "version_major": 2,
       "version_minor": 0
      },
      "text/plain": [
       "  0%|          | 0/4 [00:00<?, ?it/s]"
      ]
     },
     "metadata": {},
     "output_type": "display_data"
    },
    {
     "name": "stdout",
     "output_type": "stream",
     "text": [
      "(2.397940008672037,44.0)(2.6989700043360183,44.0)(2.8750612633916997,44.0)(2.9999999999999996,44.0)(3.096910013008056,44.0)(3.176091259055681,44.0)(3.243038048686294,44.0)(3.301029995663981,44.0)\n",
      "-1155-[7 5 6 4 3 2 1 0]\t\n"
     ]
    },
    {
     "data": {
      "application/vnd.jupyter.widget-view+json": {
       "model_id": "bc4deaeb4e824056afef63863b16f570",
       "version_major": 2,
       "version_minor": 0
      },
      "text/plain": [
       "  0%|          | 0/4 [00:00<?, ?it/s]"
      ]
     },
     "metadata": {},
     "output_type": "display_data"
    },
    {
     "name": "stdout",
     "output_type": "stream",
     "text": [
      "(2.397940008672037,44.0)(2.6989700043360183,44.0)(2.8750612633916997,44.0)(2.9999999999999996,44.0)(3.096910013008056,44.0)(3.176091259055681,44.0)(3.243038048686294,44.0)(3.301029995663981,44.0)\n",
      "1628-[5 7 6 4 3 2 1 0]\t\n"
     ]
    },
    {
     "data": {
      "application/vnd.jupyter.widget-view+json": {
       "model_id": "ed41f2bf6e8247af8d6d62e8ca391b94",
       "version_major": 2,
       "version_minor": 0
      },
      "text/plain": [
       "  0%|          | 0/4 [00:00<?, ?it/s]"
      ]
     },
     "metadata": {},
     "output_type": "display_data"
    },
    {
     "name": "stdout",
     "output_type": "stream",
     "text": [
      "(2.397940008672037,45.0)(2.6989700043360183,45.0)(2.8750612633916997,45.0)(2.9999999999999996,45.0)(3.096910013008056,45.0)(3.176091259055681,45.0)(3.243038048686294,45.0)(3.301029995663981,45.0)\n",
      "-326-[7 6 4 5 3 2 1 0]\t\n"
     ]
    },
    {
     "data": {
      "application/vnd.jupyter.widget-view+json": {
       "model_id": "51170dd5d8384aa88859685f797e535a",
       "version_major": 2,
       "version_minor": 0
      },
      "text/plain": [
       "  0%|          | 0/4 [00:00<?, ?it/s]"
      ]
     },
     "metadata": {},
     "output_type": "display_data"
    },
    {
     "name": "stdout",
     "output_type": "stream",
     "text": [
      "(2.397940008672037,46.0)(2.6989700043360183,46.0)(2.8750612633916997,46.0)(2.9999999999999996,46.0)(3.096910013008056,46.0)(3.176091259055681,46.0)(3.243038048686294,46.0)(3.301029995663981,46.0)\n",
      "-61-[7 6 2 3 1 4 5 0]\t\n"
     ]
    },
    {
     "data": {
      "application/vnd.jupyter.widget-view+json": {
       "model_id": "79f5271b27da47b599e243136eecf4c4",
       "version_major": 2,
       "version_minor": 0
      },
      "text/plain": [
       "  0%|          | 0/4 [00:00<?, ?it/s]"
      ]
     },
     "metadata": {},
     "output_type": "display_data"
    },
    {
     "name": "stdout",
     "output_type": "stream",
     "text": [
      "(2.397940008672037,47.0)(2.6989700043360183,47.0)(2.8750612633916997,47.0)(2.9999999999999996,47.0)(3.096910013008056,47.0)(3.176091259055681,47.0)(3.243038048686294,47.0)(3.301029995663981,47.0)\n",
      "-775-[6 5 7 3 4 2 1 0]\t\n"
     ]
    },
    {
     "data": {
      "application/vnd.jupyter.widget-view+json": {
       "model_id": "2aca739713e44ebaab5f45e54ad23987",
       "version_major": 2,
       "version_minor": 0
      },
      "text/plain": [
       "  0%|          | 0/4 [00:00<?, ?it/s]"
      ]
     },
     "metadata": {},
     "output_type": "display_data"
    },
    {
     "name": "stdout",
     "output_type": "stream",
     "text": [
      "(2.397940008672037,48.0)(2.6989700043360183,48.0)(2.8750612633916997,48.0)(2.9999999999999996,48.0)(3.096910013008056,48.0)(3.176091259055681,48.0)(3.243038048686294,48.0)(3.301029995663981,48.0)\n",
      "-220-[7 5 6 4 3 1 2 0]\t\n"
     ]
    },
    {
     "data": {
      "application/vnd.jupyter.widget-view+json": {
       "model_id": "38f94ef8bccb453e9fc58e85bd86d3e2",
       "version_major": 2,
       "version_minor": 0
      },
      "text/plain": [
       "  0%|          | 0/4 [00:00<?, ?it/s]"
      ]
     },
     "metadata": {},
     "output_type": "display_data"
    },
    {
     "name": "stdout",
     "output_type": "stream",
     "text": [
      "(2.397940008672037,49.0)(2.6989700043360183,49.0)(2.8750612633916997,49.0)(2.9999999999999996,49.0)(3.096910013008056,49.0)(3.176091259055681,49.0)(3.243038048686294,49.0)(3.301029995663981,49.0)\n",
      "489-[5 6 7 4 3 2 1 0]\t\n"
     ]
    },
    {
     "data": {
      "application/vnd.jupyter.widget-view+json": {
       "model_id": "049f3ab2edd0404f952993ca35624999",
       "version_major": 2,
       "version_minor": 0
      },
      "text/plain": [
       "  0%|          | 0/4 [00:00<?, ?it/s]"
      ]
     },
     "metadata": {},
     "output_type": "display_data"
    },
    {
     "name": "stdout",
     "output_type": "stream",
     "text": [
      "(2.397940008672037,49.0)(2.6989700043360183,49.0)(2.8750612633916997,49.0)(2.9999999999999996,49.0)(3.096910013008056,49.0)(3.176091259055681,49.0)(3.243038048686294,49.0)(3.301029995663981,49.0)\n",
      "-1601-[5 7 6 4 3 2 1 0]\t\n"
     ]
    },
    {
     "data": {
      "application/vnd.jupyter.widget-view+json": {
       "model_id": "ae091d5b269e40ae8c224e5b568f59a4",
       "version_major": 2,
       "version_minor": 0
      },
      "text/plain": [
       "  0%|          | 0/4 [00:00<?, ?it/s]"
      ]
     },
     "metadata": {},
     "output_type": "display_data"
    },
    {
     "name": "stdout",
     "output_type": "stream",
     "text": [
      "(2.397940008672037,50.0)(2.6989700043360183,50.0)(2.8750612633916997,50.0)(2.9999999999999996,50.0)(3.096910013008056,50.0)(3.176091259055681,50.0)(3.243038048686294,50.0)(3.301029995663981,50.0)\n",
      "403-[6 5 7 3 4 2 1 0]\t\n"
     ]
    },
    {
     "data": {
      "application/vnd.jupyter.widget-view+json": {
       "model_id": "2c65e1fc6700422d9508128a3e0c1d21",
       "version_major": 2,
       "version_minor": 0
      },
      "text/plain": [
       "  0%|          | 0/4 [00:00<?, ?it/s]"
      ]
     },
     "metadata": {},
     "output_type": "display_data"
    },
    {
     "name": "stdout",
     "output_type": "stream",
     "text": [
      "(2.397940008672037,51.0)(2.6989700043360183,51.0)(2.8750612633916997,51.0)(2.9999999999999996,51.0)(3.096910013008056,51.0)(3.176091259055681,51.0)(3.243038048686294,51.0)(3.301029995663981,51.0)\n",
      "712-[7 6 5 3 4 2 1 0]\t\n"
     ]
    },
    {
     "data": {
      "application/vnd.jupyter.widget-view+json": {
       "model_id": "60b1673477804018b8e81714bde39846",
       "version_major": 2,
       "version_minor": 0
      },
      "text/plain": [
       "  0%|          | 0/4 [00:00<?, ?it/s]"
      ]
     },
     "metadata": {},
     "output_type": "display_data"
    },
    {
     "name": "stdout",
     "output_type": "stream",
     "text": [
      "(2.397940008672037,51.0)(2.6989700043360183,51.0)(2.8750612633916997,51.0)(2.9999999999999996,51.0)(3.096910013008056,51.0)(3.176091259055681,51.0)(3.243038048686294,51.0)(3.301029995663981,51.0)\n",
      "1270-[5 6 7 4 3 2 1 0]\t\n"
     ]
    },
    {
     "data": {
      "application/vnd.jupyter.widget-view+json": {
       "model_id": "bd044f34834f4f7bbca4837c69a4de4d",
       "version_major": 2,
       "version_minor": 0
      },
      "text/plain": [
       "  0%|          | 0/4 [00:00<?, ?it/s]"
      ]
     },
     "metadata": {},
     "output_type": "display_data"
    },
    {
     "name": "stdout",
     "output_type": "stream",
     "text": [
      "(2.397940008672037,52.0)(2.6989700043360183,52.0)(2.8750612633916997,52.0)(2.9999999999999996,52.0)(3.096910013008056,52.0)(3.176091259055681,52.0)(3.243038048686294,52.0)(3.301029995663981,52.0)\n",
      "-1002-[7 6 5 4 3 2 1 0]\t\n"
     ]
    },
    {
     "data": {
      "application/vnd.jupyter.widget-view+json": {
       "model_id": "f7e266601fc343fa93c539b042a398eb",
       "version_major": 2,
       "version_minor": 0
      },
      "text/plain": [
       "  0%|          | 0/4 [00:00<?, ?it/s]"
      ]
     },
     "metadata": {},
     "output_type": "display_data"
    },
    {
     "name": "stdout",
     "output_type": "stream",
     "text": [
      "(2.397940008672037,53.0)(2.6989700043360183,53.0)(2.8750612633916997,53.0)(2.9999999999999996,53.0)(3.096910013008056,53.0)(3.176091259055681,53.0)(3.243038048686294,53.0)(3.301029995663981,53.0)\n",
      "674-[7 5 6 3 4 2 1 0]\t\n"
     ]
    },
    {
     "data": {
      "application/vnd.jupyter.widget-view+json": {
       "model_id": "edb3d621ea3a405f80993bb4c3f92294",
       "version_major": 2,
       "version_minor": 0
      },
      "text/plain": [
       "  0%|          | 0/4 [00:00<?, ?it/s]"
      ]
     },
     "metadata": {},
     "output_type": "display_data"
    },
    {
     "name": "stdout",
     "output_type": "stream",
     "text": [
      "(2.397940008672037,53.0)(2.6989700043360183,53.0)(2.8750612633916997,53.0)(2.9999999999999996,53.0)(3.096910013008056,53.0)(3.176091259055681,53.0)(3.243038048686294,53.0)(3.301029995663981,53.0)\n",
      "1566-[7 5 6 4 3 2 1 0]\t\n"
     ]
    },
    {
     "data": {
      "application/vnd.jupyter.widget-view+json": {
       "model_id": "c9fb51d7badd4d35a30002b5a85e1660",
       "version_major": 2,
       "version_minor": 0
      },
      "text/plain": [
       "  0%|          | 0/4 [00:00<?, ?it/s]"
      ]
     },
     "metadata": {},
     "output_type": "display_data"
    },
    {
     "name": "stdout",
     "output_type": "stream",
     "text": [
      "(2.397940008672037,53.0)(2.6989700043360183,53.0)(2.8750612633916997,53.0)(2.9999999999999996,53.0)(3.096910013008056,53.0)(3.176091259055681,53.0)(3.243038048686294,53.0)(3.301029995663981,53.0)\n",
      "1421-[3 4 7 2 5 6 1 0]\t\n"
     ]
    },
    {
     "data": {
      "application/vnd.jupyter.widget-view+json": {
       "model_id": "1d271412d8ec4c898975abdac004009b",
       "version_major": 2,
       "version_minor": 0
      },
      "text/plain": [
       "  0%|          | 0/4 [00:00<?, ?it/s]"
      ]
     },
     "metadata": {},
     "output_type": "display_data"
    },
    {
     "name": "stdout",
     "output_type": "stream",
     "text": [
      "(2.397940008672037,54.0)(2.6989700043360183,54.0)(2.8750612633916997,54.0)(2.9999999999999996,54.0)(3.096910013008056,54.0)(3.176091259055681,54.0)(3.243038048686294,54.0)(3.301029995663981,54.0)\n",
      "-906-[7 6 5 4 3 2 1 0]\t\n"
     ]
    },
    {
     "data": {
      "application/vnd.jupyter.widget-view+json": {
       "model_id": "7a6a0082ca204b9a82db9369d0445751",
       "version_major": 2,
       "version_minor": 0
      },
      "text/plain": [
       "  0%|          | 0/4 [00:00<?, ?it/s]"
      ]
     },
     "metadata": {},
     "output_type": "display_data"
    },
    {
     "name": "stdout",
     "output_type": "stream",
     "text": [
      "(2.397940008672037,54.0)(2.6989700043360183,54.0)(2.8750612633916997,54.0)(2.9999999999999996,54.0)(3.096910013008056,54.0)(3.176091259055681,54.0)(3.243038048686294,54.0)(3.301029995663981,54.0)\n",
      "-1284-[7 5 4 6 3 2 1 0]\t\n"
     ]
    },
    {
     "data": {
      "application/vnd.jupyter.widget-view+json": {
       "model_id": "731da95927a24eac8bf662ba4dab5bcd",
       "version_major": 2,
       "version_minor": 0
      },
      "text/plain": [
       "  0%|          | 0/4 [00:00<?, ?it/s]"
      ]
     },
     "metadata": {},
     "output_type": "display_data"
    },
    {
     "name": "stdout",
     "output_type": "stream",
     "text": [
      "(2.397940008672037,54.0)(2.6989700043360183,54.0)(2.8750612633916997,54.0)(2.9999999999999996,54.0)(3.096910013008056,54.0)(3.176091259055681,54.0)(3.243038048686294,54.0)(3.301029995663981,54.0)\n",
      "-1412-[7 6 5 3 2 4 1 0]\t\n"
     ]
    },
    {
     "data": {
      "application/vnd.jupyter.widget-view+json": {
       "model_id": "f6aa554e144841ac8dc91a61d568dfa3",
       "version_major": 2,
       "version_minor": 0
      },
      "text/plain": [
       "  0%|          | 0/4 [00:00<?, ?it/s]"
      ]
     },
     "metadata": {},
     "output_type": "display_data"
    },
    {
     "name": "stdout",
     "output_type": "stream",
     "text": [
      "(2.397940008672037,54.0)(2.6989700043360183,54.0)(2.8750612633916997,54.0)(2.9999999999999996,54.0)(3.096910013008056,54.0)(3.176091259055681,54.0)(3.243038048686294,54.0)(3.301029995663981,54.0)\n",
      "-1418-[7 4 6 3 5 2 1 0]\t\n"
     ]
    },
    {
     "data": {
      "application/vnd.jupyter.widget-view+json": {
       "model_id": "3b989845e88449ffbe28ea596b2aff1a",
       "version_major": 2,
       "version_minor": 0
      },
      "text/plain": [
       "  0%|          | 0/4 [00:00<?, ?it/s]"
      ]
     },
     "metadata": {},
     "output_type": "display_data"
    },
    {
     "name": "stdout",
     "output_type": "stream",
     "text": [
      "(2.397940008672037,55.0)(2.6989700043360183,55.0)(2.8750612633916997,55.0)(2.9999999999999996,55.0)(3.096910013008056,55.0)(3.176091259055681,55.0)(3.243038048686294,55.0)(3.301029995663981,55.0)\n",
      "-33-[7 6 5 3 4 2 1 0]\t\n"
     ]
    },
    {
     "data": {
      "application/vnd.jupyter.widget-view+json": {
       "model_id": "a9edf14755954a7bb9f73a62e512cd63",
       "version_major": 2,
       "version_minor": 0
      },
      "text/plain": [
       "  0%|          | 0/4 [00:00<?, ?it/s]"
      ]
     },
     "metadata": {},
     "output_type": "display_data"
    },
    {
     "name": "stdout",
     "output_type": "stream",
     "text": [
      "(2.397940008672037,55.0)(2.6989700043360183,55.0)(2.8750612633916997,55.0)(2.9999999999999996,55.0)(3.096910013008056,55.0)(3.176091259055681,55.0)(3.243038048686294,55.0)(3.301029995663981,55.0)\n",
      "1406-[7 6 5 3 4 2 1 0]\t\n"
     ]
    },
    {
     "data": {
      "application/vnd.jupyter.widget-view+json": {
       "model_id": "a5c4261f3b3d4739adc58ddf02256c4a",
       "version_major": 2,
       "version_minor": 0
      },
      "text/plain": [
       "  0%|          | 0/4 [00:00<?, ?it/s]"
      ]
     },
     "metadata": {},
     "output_type": "display_data"
    },
    {
     "name": "stdout",
     "output_type": "stream",
     "text": [
      "(2.397940008672037,56.0)(2.6989700043360183,56.0)(2.8750612633916997,56.0)(2.9999999999999996,56.0)(3.096910013008056,56.0)(3.176091259055681,56.0)(3.243038048686294,56.0)(3.301029995663981,56.0)\n",
      "-783-[5 6 7 4 3 2 1 0]\t\n"
     ]
    },
    {
     "data": {
      "application/vnd.jupyter.widget-view+json": {
       "model_id": "578077207eb04a54a66ade6823dae0d6",
       "version_major": 2,
       "version_minor": 0
      },
      "text/plain": [
       "  0%|          | 0/4 [00:00<?, ?it/s]"
      ]
     },
     "metadata": {},
     "output_type": "display_data"
    },
    {
     "name": "stdout",
     "output_type": "stream",
     "text": [
      "(2.397940008672037,57.0)(2.6989700043360183,57.0)(2.8750612633916997,57.0)(2.9999999999999996,57.0)(3.096910013008056,57.0)(3.176091259055681,57.0)(3.243038048686294,57.0)(3.301029995663981,57.0)\n",
      "-484-[7 6 5 4 3 2 1 0]\t\n"
     ]
    },
    {
     "data": {
      "application/vnd.jupyter.widget-view+json": {
       "model_id": "985d0a6492c2432c98f65b860d71df96",
       "version_major": 2,
       "version_minor": 0
      },
      "text/plain": [
       "  0%|          | 0/4 [00:00<?, ?it/s]"
      ]
     },
     "metadata": {},
     "output_type": "display_data"
    },
    {
     "name": "stdout",
     "output_type": "stream",
     "text": [
      "(2.397940008672037,57.0)(2.6989700043360183,57.0)(2.8750612633916997,57.0)(2.9999999999999996,57.0)(3.096910013008056,57.0)(3.176091259055681,57.0)(3.243038048686294,57.0)(3.301029995663981,57.0)\n",
      "-1589-[5 7 6 4 3 2 1 0]\t\n"
     ]
    },
    {
     "data": {
      "application/vnd.jupyter.widget-view+json": {
       "model_id": "9e6cf895e47d4f9492598f6f9780d656",
       "version_major": 2,
       "version_minor": 0
      },
      "text/plain": [
       "  0%|          | 0/4 [00:00<?, ?it/s]"
      ]
     },
     "metadata": {},
     "output_type": "display_data"
    },
    {
     "name": "stdout",
     "output_type": "stream",
     "text": [
      "(2.397940008672037,58.0)(2.6989700043360183,58.0)(2.8750612633916997,58.0)(2.9999999999999996,58.0)(3.096910013008056,58.0)(3.176091259055681,58.0)(3.243038048686294,58.0)(3.301029995663981,58.0)\n",
      "552-[5 6 7 4 3 2 1 0]\t\n"
     ]
    },
    {
     "data": {
      "application/vnd.jupyter.widget-view+json": {
       "model_id": "4f8b1a8e3257431ea9ab2905bb2e4e8d",
       "version_major": 2,
       "version_minor": 0
      },
      "text/plain": [
       "  0%|          | 0/4 [00:00<?, ?it/s]"
      ]
     },
     "metadata": {},
     "output_type": "display_data"
    },
    {
     "name": "stdout",
     "output_type": "stream",
     "text": [
      "(2.397940008672037,58.0)(2.6989700043360183,58.0)(2.8750612633916997,58.0)(2.9999999999999996,58.0)(3.096910013008056,58.0)(3.176091259055681,58.0)(3.243038048686294,58.0)(3.301029995663981,58.0)\n",
      "1274-[7 6 2 5 3 4 1 0]\t\n"
     ]
    },
    {
     "data": {
      "application/vnd.jupyter.widget-view+json": {
       "model_id": "a05722583a5d49399f2380934e8aa153",
       "version_major": 2,
       "version_minor": 0
      },
      "text/plain": [
       "  0%|          | 0/4 [00:00<?, ?it/s]"
      ]
     },
     "metadata": {},
     "output_type": "display_data"
    },
    {
     "name": "stdout",
     "output_type": "stream",
     "text": [
      "(2.397940008672037,59.0)(2.6989700043360183,59.0)(2.8750612633916997,59.0)(2.9999999999999996,59.0)(3.096910013008056,59.0)(3.176091259055681,59.0)(3.243038048686294,59.0)(3.301029995663981,59.0)\n",
      "-756-[7 6 5 3 4 2 1 0]\t\n"
     ]
    },
    {
     "data": {
      "application/vnd.jupyter.widget-view+json": {
       "model_id": "e9e64810030c4330b6dfa27812147c9e",
       "version_major": 2,
       "version_minor": 0
      },
      "text/plain": [
       "  0%|          | 0/4 [00:00<?, ?it/s]"
      ]
     },
     "metadata": {},
     "output_type": "display_data"
    },
    {
     "name": "stdout",
     "output_type": "stream",
     "text": [
      "(2.397940008672037,60.0)(2.6989700043360183,60.0)(2.8750612633916997,60.0)(2.9999999999999996,60.0)(3.096910013008056,60.0)(3.176091259055681,60.0)(3.243038048686294,60.0)(3.301029995663981,60.0)\n",
      "449-[7 5 6 2 3 4 1 0]\t\n"
     ]
    },
    {
     "data": {
      "application/vnd.jupyter.widget-view+json": {
       "model_id": "25960f22952744ff921e91af617af9e6",
       "version_major": 2,
       "version_minor": 0
      },
      "text/plain": [
       "  0%|          | 0/4 [00:00<?, ?it/s]"
      ]
     },
     "metadata": {},
     "output_type": "display_data"
    },
    {
     "name": "stdout",
     "output_type": "stream",
     "text": [
      "(2.397940008672037,60.0)(2.6989700043360183,60.0)(2.8750612633916997,60.0)(2.9999999999999996,60.0)(3.096910013008056,60.0)(3.176091259055681,60.0)(3.243038048686294,60.0)(3.301029995663981,60.0)\n",
      "-1045-[7 6 5 4 3 2 1 0]\t\n"
     ]
    },
    {
     "data": {
      "application/vnd.jupyter.widget-view+json": {
       "model_id": "60ba1877e461422ba5228cb742c57adc",
       "version_major": 2,
       "version_minor": 0
      },
      "text/plain": [
       "  0%|          | 0/4 [00:00<?, ?it/s]"
      ]
     },
     "metadata": {},
     "output_type": "display_data"
    },
    {
     "name": "stdout",
     "output_type": "stream",
     "text": [
      "(2.397940008672037,61.0)(2.6989700043360183,61.0)(2.8750612633916997,61.0)(2.9999999999999996,61.0)(3.096910013008056,61.0)(3.176091259055681,61.0)(3.243038048686294,61.0)(3.301029995663981,61.0)\n",
      "414-[6 7 5 4 2 3 1 0]\t\n"
     ]
    },
    {
     "data": {
      "application/vnd.jupyter.widget-view+json": {
       "model_id": "35466174f9af4f6dbe119b783dfececc",
       "version_major": 2,
       "version_minor": 0
      },
      "text/plain": [
       "  0%|          | 0/4 [00:00<?, ?it/s]"
      ]
     },
     "metadata": {},
     "output_type": "display_data"
    },
    {
     "name": "stdout",
     "output_type": "stream",
     "text": [
      "(2.397940008672037,61.0)(2.6989700043360183,61.0)(2.8750612633916997,61.0)(2.9999999999999996,61.0)(3.096910013008056,61.0)(3.176091259055681,61.0)(3.243038048686294,61.0)(3.301029995663981,61.0)\n",
      "1250-[5 7 6 4 3 2 1 0]\t\n"
     ]
    },
    {
     "data": {
      "application/vnd.jupyter.widget-view+json": {
       "model_id": "aac9713c22174996a67cef47a60cfb80",
       "version_major": 2,
       "version_minor": 0
      },
      "text/plain": [
       "  0%|          | 0/4 [00:00<?, ?it/s]"
      ]
     },
     "metadata": {},
     "output_type": "display_data"
    },
    {
     "name": "stdout",
     "output_type": "stream",
     "text": [
      "(2.397940008672037,62.0)(2.6989700043360183,62.0)(2.8750612633916997,62.0)(2.9999999999999996,62.0)(3.096910013008056,62.0)(3.176091259055681,62.0)(3.243038048686294,62.0)(3.301029995663981,62.0)\n",
      "589-[6 7 4 5 3 2 1 0]\t\n"
     ]
    },
    {
     "data": {
      "application/vnd.jupyter.widget-view+json": {
       "model_id": "f080949768644841a02841870413214e",
       "version_major": 2,
       "version_minor": 0
      },
      "text/plain": [
       "  0%|          | 0/4 [00:00<?, ?it/s]"
      ]
     },
     "metadata": {},
     "output_type": "display_data"
    },
    {
     "name": "stdout",
     "output_type": "stream",
     "text": [
      "(2.397940008672037,63.0)(2.6989700043360183,63.0)(2.8750612633916997,63.0)(2.9999999999999996,63.0)(3.096910013008056,63.0)(3.176091259055681,63.0)(3.243038048686294,63.0)(3.301029995663981,63.0)\n",
      "879-[7 6 5 4 3 2 1 0]\t\n"
     ]
    },
    {
     "data": {
      "application/vnd.jupyter.widget-view+json": {
       "model_id": "7bd7a1f06e57404b8e68f04ec7df17b5",
       "version_major": 2,
       "version_minor": 0
      },
      "text/plain": [
       "  0%|          | 0/4 [00:00<?, ?it/s]"
      ]
     },
     "metadata": {},
     "output_type": "display_data"
    },
    {
     "name": "stdout",
     "output_type": "stream",
     "text": [
      "(2.397940008672037,63.0)(2.6989700043360183,63.0)(2.8750612633916997,63.0)(2.9999999999999996,63.0)(3.096910013008056,63.0)(3.176091259055681,63.0)(3.243038048686294,63.0)(3.301029995663981,63.0)\n",
      "-1046-[7 6 5 3 2 4 1 0]\t\n"
     ]
    },
    {
     "data": {
      "application/vnd.jupyter.widget-view+json": {
       "model_id": "85b66305aedb4c788f9f0f1df28b1b92",
       "version_major": 2,
       "version_minor": 0
      },
      "text/plain": [
       "  0%|          | 0/4 [00:00<?, ?it/s]"
      ]
     },
     "metadata": {},
     "output_type": "display_data"
    },
    {
     "name": "stdout",
     "output_type": "stream",
     "text": [
      "(2.397940008672037,64.0)(2.6989700043360183,64.0)(2.8750612633916997,64.0)(2.9999999999999996,64.0)(3.096910013008056,64.0)(3.176091259055681,64.0)(3.243038048686294,64.0)(3.301029995663981,64.0)\n",
      "591-[7 6 4 5 2 3 1 0]\t\n"
     ]
    },
    {
     "data": {
      "application/vnd.jupyter.widget-view+json": {
       "model_id": "be3882807a7b45a1901783fb03e0c4b9",
       "version_major": 2,
       "version_minor": 0
      },
      "text/plain": [
       "  0%|          | 0/4 [00:00<?, ?it/s]"
      ]
     },
     "metadata": {},
     "output_type": "display_data"
    },
    {
     "name": "stdout",
     "output_type": "stream",
     "text": [
      "(2.397940008672037,65.0)(2.6989700043360183,65.0)(2.8750612633916997,65.0)(2.9999999999999996,65.0)(3.096910013008056,65.0)(3.176091259055681,65.0)(3.243038048686294,65.0)(3.301029995663981,65.0)\n",
      "-667-[7 6 5 4 3 2 1 0]\t\n"
     ]
    }
   ],
   "source": [
    "\n",
    "succs = None\n",
    "for n_i in tqdm(range(0, n, n_step)):\n",
    "    subkeys = _cu.arange(n_i, n_i + n_step)\n",
    "    assert ((ths.s % reduction.q) == ((ths.s0 + ths.s1) % reduction.q)).all()\n",
    "    cpa_scores = hocpa_wrapper(ths[:N], reduction, model, step=conv, conv_step=conv, neg_trick=neg_trick, subkeys=subkeys, early_stop=False, pp=not prng_off)\n",
    "    succs_i_ = scared_cu._utils.succ_ratio(ths.s[0, subkeys], reduction.q, conv, cpa_scores, incomplete=incomplete!=0, np_flag=True)\n",
    "    succs_i = _cu.zeros(N//conv)\n",
    "    for i in range(len(succs_i_)):\n",
    "        succs_i[i] = succs_i_[i]\n",
    "    for i in range(len(succs_i_), len(succs_i)):\n",
    "        succs_i[i] = succs_i_[-1]\n",
    "    if succs is None:\n",
    "        succs = _cu.array(succs_i)\n",
    "    else:\n",
    "        succs += _cu.array(succs_i)\n",
    "    \n",
    "    for x,y in zip(range(conv,N+1,conv),succs):\n",
    "        print(f'({math.log(x)/math.log(10)},{y})',end='')\n",
    "    # if n_i != (n - n_step):\n",
    "    #     del kw\n",
    "    print()\n",
    "    for i in range(n_i, n_i + n_step):\n",
    "        print(f'{ths.s[0, i]}-{cpa_scores[:,i-n_i].argsort()[-1]}', end='\\t')\n",
    "    print()\n",
    "\n",
    "\n",
    "\n",
    "succs /= (n//n_step)\n",
    "# assert (mmia.data == (-1)).sum() == 0\n"
   ]
  },
  {
   "cell_type": "code",
   "execution_count": 9,
   "id": "7a7c4a03-7338-4e03-96cd-5cff9f36d568",
   "metadata": {
    "metadata": {}
   },
   "outputs": [
    {
     "name": "stdout",
     "output_type": "stream",
     "text": [
      "(2.397940008672037,0.65)(2.6989700043360183,0.65)(2.8750612633916997,0.65)(2.9999999999999996,0.65)(3.096910013008056,0.65)(3.176091259055681,0.65)(3.243038048686294,0.65)(3.301029995663981,0.65)"
     ]
    }
   ],
   "source": [
    "for x,y in zip(range(conv,N+1,conv),succs):\n",
    "    print(f'({math.log(x)/math.log(10)},{y})',end='')"
   ]
  },
  {
   "cell_type": "markdown",
   "id": "446dc62e",
   "metadata": {},
   "source": []
  },
  {
   "cell_type": "markdown",
   "id": "4a8e95a4",
   "metadata": {},
   "source": []
  },
  {
   "cell_type": "markdown",
   "id": "47898262",
   "metadata": {},
   "source": []
  },
  {
   "cell_type": "markdown",
   "id": "352fa1ce",
   "metadata": {},
   "source": []
  },
  {
   "cell_type": "markdown",
   "id": "09d50756",
   "metadata": {},
   "source": []
  },
  {
   "cell_type": "markdown",
   "id": "5fd3ea1c",
   "metadata": {},
   "source": []
  },
  {
   "cell_type": "markdown",
   "id": "cb6e638f",
   "metadata": {},
   "source": []
  }
 ],
 "metadata": {
  "kernelspec": {
   "display_name": "sca",
   "language": "python",
   "name": "python3"
  },
  "language_info": {
   "codemirror_mode": {
    "name": "ipython",
    "version": 3
   },
   "file_extension": ".py",
   "mimetype": "text/x-python",
   "name": "python",
   "nbconvert_exporter": "python",
   "pygments_lexer": "ipython3",
   "version": "3.12.2"
  }
 },
 "nbformat": 4,
 "nbformat_minor": 5
}
