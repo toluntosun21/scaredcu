{
 "cells": [
  {
   "cell_type": "code",
   "execution_count": 1,
   "id": "dd53b612",
   "metadata": {},
   "outputs": [],
   "source": [
    "import sys\n",
    "sys.path.append('..')"
   ]
  },
  {
   "cell_type": "code",
   "execution_count": 2,
   "id": "ee1b7b80-79dd-4b78-b009-c751635424f5",
   "metadata": {
    "metadata": {}
   },
   "outputs": [],
   "source": [
    "import warnings\n",
    "warnings.filterwarnings(\"ignore\")"
   ]
  },
  {
   "cell_type": "code",
   "execution_count": 3,
   "id": "4888ca5f",
   "metadata": {},
   "outputs": [],
   "source": [
    "import cupy as _cu\n",
    "from tqdm.auto import tqdm\n",
    "import numpy as np\n",
    "import math"
   ]
  },
  {
   "cell_type": "code",
   "execution_count": 4,
   "id": "09e9ea23",
   "metadata": {},
   "outputs": [],
   "source": [
    "import scaredcu"
   ]
  },
  {
   "cell_type": "code",
   "execution_count": 5,
   "id": "c1d2db24",
   "metadata": {},
   "outputs": [],
   "source": [
    "import estraces"
   ]
  },
  {
   "cell_type": "code",
   "execution_count": 6,
   "id": "d92e5ce2",
   "metadata": {},
   "outputs": [],
   "source": [
    "ths = estraces.read_ths_from_ets_file(f'kyber_basemult_montgomery_pon_t0.ets')"
   ]
  },
  {
   "cell_type": "code",
   "execution_count": 7,
   "id": "e7c754a8",
   "metadata": {},
   "outputs": [],
   "source": [
    "import scaredcu.gpu_format as gpu_format\n",
    "\n",
    "ths_ = gpu_format.read_ths_from_ram(_cu.array(ths.samples)[:,:], c=_cu.array(ths.c)[:,:],\n",
    "                                      s=_cu.array(ths.s)[:,:])"
   ]
  },
  {
   "cell_type": "code",
   "execution_count": 8,
   "id": "b861659a",
   "metadata": {},
   "outputs": [],
   "source": [
    "## from kyber_reverse.ipynb\n",
    "REDUCTION = 'MONTGOMERY'\n",
    "if REDUCTION == 'MONTGOMERY':\n",
    "\n",
    "    S0L, S0R, S1L, S1R = 93, 9053, 9189, 18149\n",
    "    C0L, C0R, C1L, C1R = 76, 80, 128, 132\n",
    "    \n",
    "    K = 140\n",
    "    X = 4\n",
    "\n",
    "elif REDUCTION == 'PLANTARD':\n",
    "\n",
    "    S0L, S0R, S1L, S1R = 128, 9600, 9740, 19212\n",
    "    C0L, C0R, C1L, C1R = 53, 57, 101, 105\n",
    "    \n",
    "    K = 148\n",
    "    X = 0\n",
    "\n",
    "\n",
    "def make_frame(key_index, d, is_high=True):\n",
    "    x = 0 if is_high else X    \n",
    "    T = S0L if d == 0 else S1L\n",
    "    if key_index % 2 == 0:\n",
    "        return range(T + K*(key_index//2) + C0L + x, T + K*(key_index//2) + C0R + x)\n",
    "    else:\n",
    "        return range(T + K*(key_index//2) + C1L + x, T + K*(key_index//2) + C1R + x)\n"
   ]
  },
  {
   "cell_type": "code",
   "execution_count": 9,
   "id": "399ddb0a",
   "metadata": {},
   "outputs": [],
   "source": [
    "def print_scores(ki, scores, guesses, scores_sorted=None, l=10):\n",
    "    if scores_sorted is None:\n",
    "        scores_sorted = scores.argsort()[::-1]\n",
    "\n",
    "    for i in range(l):\n",
    "        print(ki, i, guesses[scores_sorted[i]], scores[scores_sorted[i]])\n",
    "    print()"
   ]
  },
  {
   "cell_type": "code",
   "execution_count": 10,
   "id": "9b9e3bf0-8d22-4a9c-ab0c-db5ac4a350d2",
   "metadata": {
    "metadata": {}
   },
   "outputs": [],
   "source": [
    "step = 900\n",
    "batch_size = 450\n",
    "key_index = 0\n",
    "scaredcu.container.set_batch_size(batch_size)\n",
    "\n",
    "model = scaredcu.models.AbsoluteValue()\n",
    "selection_function = scaredcu.lbc.kyber.selection_functions.BaseMulMontyIterated(cu_step=1<<19, words=[key_index],\n",
    "                                                                                 low=False, high=True, neg_trick=True)"
   ]
  },
  {
   "cell_type": "code",
   "execution_count": 11,
   "id": "ffc9ea6c-235a-441d-a281-ee112f4f7406",
   "metadata": {
    "metadata": {}
   },
   "outputs": [
    {
     "data": {
      "application/vnd.jupyter.widget-view+json": {
       "model_id": "12a1f271765d448bb29bb0f0e562c64a",
       "version_major": 2,
       "version_minor": 0
      },
      "text/plain": [
       "  0%|          | 0/11 [00:00<?, ?it/s]"
      ]
     },
     "metadata": {},
     "output_type": "display_data"
    },
    {
     "ename": "AttributeError",
     "evalue": "'ndarray' object has no attribute '_basemul_low'",
     "output_type": "error",
     "traceback": [
      "\u001b[0;31m---------------------------------------------------------------------------\u001b[0m",
      "\u001b[0;31mAttributeError\u001b[0m                            Traceback (most recent call last)",
      "Cell \u001b[0;32mIn[11], line 20\u001b[0m\n\u001b[1;32m     18\u001b[0m \u001b[38;5;28;01mfor\u001b[39;00m i \u001b[38;5;129;01min\u001b[39;00m \u001b[38;5;28mrange\u001b[39m(\u001b[38;5;241m0\u001b[39m, \u001b[38;5;241m900\u001b[39m, step):\n\u001b[1;32m     19\u001b[0m     container \u001b[38;5;241m=\u001b[39m scaredcu\u001b[38;5;241m.\u001b[39mContainer(ths_[i:i \u001b[38;5;241m+\u001b[39m step], preprocesses\u001b[38;5;241m=\u001b[39m[pp_])\n\u001b[0;32m---> 20\u001b[0m     \u001b[43mcpa\u001b[49m\u001b[38;5;241;43m.\u001b[39;49m\u001b[43mrun\u001b[49m\u001b[43m(\u001b[49m\u001b[43mcontainer\u001b[49m\u001b[43m)\u001b[49m\n\u001b[1;32m     21\u001b[0m selection_function\u001b[38;5;241m.\u001b[39msave_scores(cpa\u001b[38;5;241m.\u001b[39mscores)\n\u001b[1;32m     22\u001b[0m \u001b[38;5;28mprint\u001b[39m(cpa\u001b[38;5;241m.\u001b[39mscores\u001b[38;5;241m.\u001b[39mshape, cpa\u001b[38;5;241m.\u001b[39mscores\u001b[38;5;241m.\u001b[39margmax(), selection_function\u001b[38;5;241m.\u001b[39mguesses[cpa\u001b[38;5;241m.\u001b[39mscores\u001b[38;5;241m.\u001b[39margmax()], selection_function\u001b[38;5;241m.\u001b[39mscores\u001b[38;5;241m.\u001b[39mshape)\n",
      "File \u001b[0;32m~/Desktop/PhD/central_reduction/scaredcu/scaredcu/examples/../scaredcu/analysis/base.py:64\u001b[0m, in \u001b[0;36m_BaseAnalysis.run\u001b[0;34m(self, container)\u001b[0m\n\u001b[1;32m     62\u001b[0m \u001b[38;5;28;01mfor\u001b[39;00m i, batch \u001b[38;5;129;01min\u001b[39;00m \u001b[38;5;28menumerate\u001b[39m(batches):\n\u001b[1;32m     63\u001b[0m     logger\u001b[38;5;241m.\u001b[39minfo(\u001b[38;5;124mf\u001b[39m\u001b[38;5;124m'\u001b[39m\u001b[38;5;124mProcess batch number \u001b[39m\u001b[38;5;132;01m{\u001b[39;00mi\u001b[38;5;132;01m}\u001b[39;00m\u001b[38;5;124m starting.\u001b[39m\u001b[38;5;124m'\u001b[39m)\n\u001b[0;32m---> 64\u001b[0m     \u001b[38;5;28;43mself\u001b[39;49m\u001b[38;5;241;43m.\u001b[39;49m\u001b[43mprocess\u001b[49m\u001b[43m(\u001b[49m\u001b[43mbatch\u001b[49m\u001b[43m)\u001b[49m\n\u001b[1;32m     65\u001b[0m     \u001b[38;5;28mself\u001b[39m\u001b[38;5;241m.\u001b[39m_batch_loop_compute()\n\u001b[1;32m     66\u001b[0m     logger\u001b[38;5;241m.\u001b[39minfo(\u001b[38;5;124mf\u001b[39m\u001b[38;5;124m'\u001b[39m\u001b[38;5;124mProcess batch \u001b[39m\u001b[38;5;132;01m{\u001b[39;00mi\u001b[38;5;132;01m}\u001b[39;00m\u001b[38;5;124m iteration finished.\u001b[39m\u001b[38;5;124m'\u001b[39m)\n",
      "File \u001b[0;32m~/Desktop/PhD/central_reduction/scaredcu/scaredcu/examples/../scaredcu/analysis/base.py:95\u001b[0m, in \u001b[0;36m_BaseAnalysis.process\u001b[0;34m(self, traces_batch)\u001b[0m\n\u001b[1;32m     84\u001b[0m \u001b[38;5;28;01mdef\u001b[39;00m \u001b[38;5;21mprocess\u001b[39m(\u001b[38;5;28mself\u001b[39m, traces_batch):\n\u001b[1;32m     85\u001b[0m \u001b[38;5;250m    \u001b[39m\u001b[38;5;124;03m\"\"\"Process and update the current state with traces batch.\u001b[39;00m\n\u001b[1;32m     86\u001b[0m \n\u001b[1;32m     87\u001b[0m \u001b[38;5;124;03m    Intermediate leakage values are computed, and state is updated.\u001b[39;00m\n\u001b[0;32m   (...)\u001b[0m\n\u001b[1;32m     93\u001b[0m \n\u001b[1;32m     94\u001b[0m \u001b[38;5;124;03m    \"\"\"\u001b[39;00m\n\u001b[0;32m---> 95\u001b[0m     intermediate_values \u001b[38;5;241m=\u001b[39m \u001b[38;5;28;43mself\u001b[39;49m\u001b[38;5;241;43m.\u001b[39;49m\u001b[43mcompute_intermediate_values\u001b[49m\u001b[43m(\u001b[49m\u001b[43mtraces_batch\u001b[49m\u001b[38;5;241;43m.\u001b[39;49m\u001b[43mmetadatas\u001b[49m\u001b[43m)\u001b[49m\n\u001b[1;32m     97\u001b[0m     logger\u001b[38;5;241m.\u001b[39minfo(\u001b[38;5;124mf\u001b[39m\u001b[38;5;124m'\u001b[39m\u001b[38;5;124mWill call distinguisher update with \u001b[39m\u001b[38;5;132;01m{\u001b[39;00mtraces_batch\u001b[38;5;132;01m}\u001b[39;00m\u001b[38;5;124m.\u001b[39m\u001b[38;5;124m'\u001b[39m)\n\u001b[1;32m     98\u001b[0m     \u001b[38;5;28mself\u001b[39m\u001b[38;5;241m.\u001b[39mupdate(\n\u001b[1;32m     99\u001b[0m         data\u001b[38;5;241m=\u001b[39mintermediate_values,\n\u001b[1;32m    100\u001b[0m         traces\u001b[38;5;241m=\u001b[39mtraces_batch\u001b[38;5;241m.\u001b[39msamples\n\u001b[1;32m    101\u001b[0m     )\n",
      "File \u001b[0;32m~/Desktop/PhD/central_reduction/scaredcu/scaredcu/examples/../scaredcu/analysis/base.py:82\u001b[0m, in \u001b[0;36m_BaseAnalysis.compute_intermediate_values\u001b[0;34m(self, metadata)\u001b[0m\n\u001b[1;32m     75\u001b[0m \u001b[38;5;250m\u001b[39m\u001b[38;5;124;03m\"\"\"Compute intermediate leakage values for this instance from metadata.\u001b[39;00m\n\u001b[1;32m     76\u001b[0m \n\u001b[1;32m     77\u001b[0m \u001b[38;5;124;03mArgs:\u001b[39;00m\n\u001b[1;32m     78\u001b[0m \u001b[38;5;124;03m    metadata (mapping): a dict-like object containing the data to be used with selection function.\u001b[39;00m\n\u001b[1;32m     79\u001b[0m \n\u001b[1;32m     80\u001b[0m \u001b[38;5;124;03m\"\"\"\u001b[39;00m\n\u001b[1;32m     81\u001b[0m logger\u001b[38;5;241m.\u001b[39minfo(\u001b[38;5;124mf\u001b[39m\u001b[38;5;124m'\u001b[39m\u001b[38;5;124mComputing intermediate values for metadata \u001b[39m\u001b[38;5;132;01m{\u001b[39;00mmetadata\u001b[38;5;132;01m}\u001b[39;00m\u001b[38;5;124m.\u001b[39m\u001b[38;5;124m'\u001b[39m)\n\u001b[0;32m---> 82\u001b[0m \u001b[38;5;28;01mreturn\u001b[39;00m \u001b[38;5;28mself\u001b[39m\u001b[38;5;241m.\u001b[39mmodel(\u001b[38;5;28;43mself\u001b[39;49m\u001b[38;5;241;43m.\u001b[39;49m\u001b[43mselection_function\u001b[49m\u001b[43m(\u001b[49m\u001b[38;5;241;43m*\u001b[39;49m\u001b[38;5;241;43m*\u001b[39;49m\u001b[43mmetadata\u001b[49m\u001b[43m)\u001b[49m)\n",
      "File \u001b[0;32m~/Desktop/PhD/central_reduction/scaredcu/scaredcu/examples/../scaredcu/selection_functions/base.py:178\u001b[0m, in \u001b[0;36m_AttackSelectionFunctionWrapped.__call__\u001b[0;34m(self, **kwargs)\u001b[0m\n\u001b[1;32m    176\u001b[0m \u001b[38;5;28;01mdef\u001b[39;00m \u001b[38;5;21m__call__\u001b[39m(\u001b[38;5;28mself\u001b[39m, \u001b[38;5;241m*\u001b[39m\u001b[38;5;241m*\u001b[39mkwargs):\n\u001b[1;32m    177\u001b[0m     kwargs[\u001b[38;5;28mself\u001b[39m\u001b[38;5;241m.\u001b[39mtarget_name] \u001b[38;5;241m=\u001b[39m kwargs[\u001b[38;5;28mself\u001b[39m\u001b[38;5;241m.\u001b[39mtarget_tag]\n\u001b[0;32m--> 178\u001b[0m     \u001b[38;5;28;01mreturn\u001b[39;00m \u001b[38;5;28;43msuper\u001b[39;49m\u001b[43m(\u001b[49m\u001b[43m)\u001b[49m\u001b[38;5;241;43m.\u001b[39;49m\u001b[38;5;21;43m__call__\u001b[39;49m\u001b[43m(\u001b[49m\u001b[38;5;241;43m*\u001b[39;49m\u001b[38;5;241;43m*\u001b[39;49m\u001b[43mkwargs\u001b[49m\u001b[43m)\u001b[49m\n",
      "File \u001b[0;32m~/Desktop/PhD/central_reduction/scaredcu/scaredcu/examples/../scaredcu/selection_functions/base.py:50\u001b[0m, in \u001b[0;36mSelectionFunction.__call__\u001b[0;34m(self, **kwargs)\u001b[0m\n\u001b[1;32m     48\u001b[0m         \u001b[38;5;28;01mif\u001b[39;00m name \u001b[38;5;129;01mnot\u001b[39;00m \u001b[38;5;129;01min\u001b[39;00m \u001b[38;5;28mself\u001b[39m\u001b[38;5;241m.\u001b[39m_base_kwargs:\n\u001b[1;32m     49\u001b[0m             \u001b[38;5;28;01mraise\u001b[39;00m SelectionFunctionError(\u001b[38;5;124mf\u001b[39m\u001b[38;5;124m'\u001b[39m\u001b[38;5;124mMissing values in metadata \u001b[39m\u001b[38;5;132;01m{\u001b[39;00m\u001b[38;5;28mlist\u001b[39m(kwargs\u001b[38;5;241m.\u001b[39mkeys())\u001b[38;5;132;01m}\u001b[39;00m\u001b[38;5;124m for expected argument \u001b[39m\u001b[38;5;132;01m{\u001b[39;00me\u001b[38;5;132;01m}\u001b[39;00m\u001b[38;5;124m of selection function \u001b[39m\u001b[38;5;132;01m{\u001b[39;00m\u001b[38;5;28mself\u001b[39m\u001b[38;5;132;01m}\u001b[39;00m\u001b[38;5;124m.\u001b[39m\u001b[38;5;124m'\u001b[39m)\n\u001b[0;32m---> 50\u001b[0m values \u001b[38;5;241m=\u001b[39m \u001b[38;5;28;43mself\u001b[39;49m\u001b[38;5;241;43m.\u001b[39;49m\u001b[43m_function\u001b[49m\u001b[43m(\u001b[49m\u001b[38;5;241;43m*\u001b[39;49m\u001b[38;5;241;43m*\u001b[39;49m\u001b[38;5;28;43mself\u001b[39;49m\u001b[38;5;241;43m.\u001b[39;49m\u001b[43m_base_kwargs\u001b[49m\u001b[43m)\u001b[49m\n\u001b[1;32m     51\u001b[0m \u001b[38;5;28;01mif\u001b[39;00m values\u001b[38;5;241m.\u001b[39mshape[\u001b[38;5;241m0\u001b[39m] \u001b[38;5;241m!=\u001b[39m \u001b[38;5;28mself\u001b[39m\u001b[38;5;241m.\u001b[39m_ref_shape[\u001b[38;5;241m0\u001b[39m]:\n\u001b[1;32m     52\u001b[0m     \u001b[38;5;28;01mraise\u001b[39;00m SelectionFunctionError(\u001b[38;5;124mf\u001b[39m\u001b[38;5;124m'\u001b[39m\u001b[38;5;124mShape of selection function output should begin with \u001b[39m\u001b[38;5;132;01m{\u001b[39;00m\u001b[38;5;28mself\u001b[39m\u001b[38;5;241m.\u001b[39m_ref_shape[\u001b[38;5;241m0\u001b[39m]\u001b[38;5;132;01m}\u001b[39;00m\u001b[38;5;124m, not \u001b[39m\u001b[38;5;132;01m{\u001b[39;00mvalues\u001b[38;5;241m.\u001b[39mshape[\u001b[38;5;241m0\u001b[39m]\u001b[38;5;132;01m}\u001b[39;00m\u001b[38;5;124m.\u001b[39m\u001b[38;5;124m'\u001b[39m)\n",
      "File \u001b[0;32m~/Desktop/PhD/central_reduction/scaredcu/scaredcu/examples/../scaredcu/lbc/kyber/selection_functions.py:23\u001b[0m, in \u001b[0;36m_BaseMul.__call__\u001b[0;34m(self, c, guesses)\u001b[0m\n\u001b[1;32m     21\u001b[0m \u001b[38;5;28;01mdef\u001b[39;00m \u001b[38;5;21m__call__\u001b[39m(\u001b[38;5;28mself\u001b[39m, c, guesses):\n\u001b[1;32m     22\u001b[0m     c_ \u001b[38;5;241m=\u001b[39m c[:,:]\u001b[38;5;241m.\u001b[39mastype(\u001b[38;5;124m'\u001b[39m\u001b[38;5;124mint32\u001b[39m\u001b[38;5;124m'\u001b[39m) \u001b[38;5;28;01mif\u001b[39;00m \u001b[38;5;28mself\u001b[39m\u001b[38;5;241m.\u001b[39mwords_flat \u001b[38;5;129;01mis\u001b[39;00m \u001b[38;5;28;01mNone\u001b[39;00m \u001b[38;5;28;01melse\u001b[39;00m c[:, \u001b[38;5;28mself\u001b[39m\u001b[38;5;241m.\u001b[39mwords_flat]\u001b[38;5;241m.\u001b[39mastype(\u001b[38;5;124m'\u001b[39m\u001b[38;5;124mint32\u001b[39m\u001b[38;5;124m'\u001b[39m)\n\u001b[0;32m---> 23\u001b[0m     k \u001b[38;5;241m=\u001b[39m \u001b[38;5;28;43mself\u001b[39;49m\u001b[38;5;241;43m.\u001b[39;49m\u001b[43mbasemul_imp\u001b[49m\u001b[38;5;241;43m.\u001b[39;49m\u001b[43mbasemul\u001b[49m\u001b[43m(\u001b[49m\u001b[43mc_\u001b[49m\u001b[43m[\u001b[49m\u001b[43m:\u001b[49m\u001b[43m,\u001b[49m\u001b[43m \u001b[49m\u001b[43m_cu\u001b[49m\u001b[38;5;241;43m.\u001b[39;49m\u001b[43mnewaxis\u001b[49m\u001b[43m,\u001b[49m\u001b[43m \u001b[49m\u001b[43m_cu\u001b[49m\u001b[38;5;241;43m.\u001b[39;49m\u001b[43mnewaxis\u001b[49m\u001b[43m,\u001b[49m\u001b[43m \u001b[49m\u001b[43m:\u001b[49m\u001b[43m]\u001b[49m\u001b[43m,\u001b[49m\u001b[43m \u001b[49m\u001b[43mguesses\u001b[49m\u001b[43m[\u001b[49m\u001b[43m_cu\u001b[49m\u001b[38;5;241;43m.\u001b[39;49m\u001b[43mnewaxis\u001b[49m\u001b[43m,\u001b[49m\u001b[43m \u001b[49m\u001b[43m:\u001b[49m\u001b[43m,\u001b[49m\u001b[43m \u001b[49m\u001b[43m_cu\u001b[49m\u001b[38;5;241;43m.\u001b[39;49m\u001b[43mnewaxis\u001b[49m\u001b[43m]\u001b[49m\u001b[43m,\u001b[49m\u001b[43m \u001b[49m\u001b[38;5;28;43mself\u001b[39;49m\u001b[38;5;241;43m.\u001b[39;49m\u001b[43mwords\u001b[49m\u001b[43m,\u001b[49m\u001b[43m \u001b[49m\u001b[38;5;28;43mself\u001b[39;49m\u001b[38;5;241;43m.\u001b[39;49m\u001b[43mlow\u001b[49m\u001b[43m,\u001b[49m\u001b[43m \u001b[49m\u001b[38;5;28;43mself\u001b[39;49m\u001b[38;5;241;43m.\u001b[39;49m\u001b[43mhigh\u001b[49m\u001b[43m)\u001b[49m\n\u001b[1;32m     24\u001b[0m     \u001b[38;5;28;01mreturn\u001b[39;00m k[:,:,\u001b[38;5;241m0\u001b[39m]\n",
      "File \u001b[0;32m~/Desktop/PhD/central_reduction/scaredcu/scaredcu/examples/../scaredcu/lbc/kyber/base.py:80\u001b[0m, in \u001b[0;36mBaseMul.basemul\u001b[0;34m(self, a, b, frame, low, high)\u001b[0m\n\u001b[1;32m     78\u001b[0m \u001b[38;5;28;01melse\u001b[39;00m:\n\u001b[1;32m     79\u001b[0m     r \u001b[38;5;241m=\u001b[39m _cu\u001b[38;5;241m.\u001b[39mempty(shape\u001b[38;5;241m=\u001b[39ma\u001b[38;5;241m.\u001b[39mshape, dtype\u001b[38;5;241m=\u001b[39m\u001b[38;5;124m'\u001b[39m\u001b[38;5;124mint16\u001b[39m\u001b[38;5;124m'\u001b[39m)\n\u001b[0;32m---> 80\u001b[0m     r[\u001b[38;5;241m.\u001b[39m\u001b[38;5;241m.\u001b[39m\u001b[38;5;241m.\u001b[39m,::\u001b[38;5;241m2\u001b[39m] \u001b[38;5;241m=\u001b[39m \u001b[38;5;28;43mself\u001b[39;49m\u001b[38;5;241;43m.\u001b[39;49m\u001b[43m_basemul_low\u001b[49m(a, b, frame\u001b[38;5;241m=\u001b[39mframe)\n\u001b[1;32m     81\u001b[0m     r[\u001b[38;5;241m.\u001b[39m\u001b[38;5;241m.\u001b[39m\u001b[38;5;241m.\u001b[39m,\u001b[38;5;241m1\u001b[39m::\u001b[38;5;241m2\u001b[39m] \u001b[38;5;241m=\u001b[39m \u001b[38;5;28mself\u001b[39m\u001b[38;5;241m.\u001b[39m_basemul_high(a, b)\n\u001b[1;32m     82\u001b[0m     \u001b[38;5;28;01mreturn\u001b[39;00m r\n",
      "\u001b[0;31mAttributeError\u001b[0m: 'ndarray' object has no attribute '_basemul_low'"
     ]
    }
   ],
   "source": [
    "selection_function.reset()\n",
    "\n",
    "for _ in tqdm(range(selection_function.num_steps)):\n",
    "\n",
    "    assert selection_function.done() == False\n",
    "\n",
    "\n",
    "    cpa = scaredcu.CPAAttackAlternative(selection_function=selection_function,\n",
    "                                            model=model,\n",
    "                                            discriminant=scaredcu.maxabs,\n",
    "                                            convergence_step=None)\n",
    "\n",
    "\n",
    "    mean = ths_.samples.mean(axis=0)\n",
    "    pp_ = scaredcu.preprocesses.high_order.CenteredProduct(mean=mean, frame_1=make_frame(key_index, 0, True),\n",
    "                                                            frame_2=make_frame(key_index, 1, True), mode='same')\n",
    "\n",
    "    for i in range(0, 900, step):\n",
    "        container = scaredcu.Container(ths_[i:i + step], preprocesses=[pp_])\n",
    "        cpa.run(container)\n",
    "    selection_function.save_scores(cpa.scores)\n",
    "    print(cpa.scores.shape, cpa.scores.argmax(), selection_function.guesses[cpa.scores.argmax()], selection_function.scores.shape)\n",
    "    print_scores(key_index, selection_function.scores[:,0], selection_function.np_guesses)\n",
    "    selection_function.next()"
   ]
  },
  {
   "cell_type": "code",
   "execution_count": 12,
   "id": "9d41e532",
   "metadata": {},
   "outputs": [
    {
     "data": {
      "text/plain": [
       "<scaredcu.analysis._analysis.CPAAttackAlternative at 0x7a192d052c60>"
      ]
     },
     "execution_count": 12,
     "metadata": {},
     "output_type": "execute_result"
    }
   ],
   "source": [
    "cpa"
   ]
  },
  {
   "cell_type": "code",
   "execution_count": 1,
   "id": "a10eb278",
   "metadata": {},
   "outputs": [
    {
     "name": "stdout",
     "output_type": "stream",
     "text": [
      "21932846, 4273034450, 3562152210, 732815086, 752167598, 3542799698, 3417653460, 877313836, 2112004045, 2182963251, 932791035, 3362176261, 2951903026, 1343064270, 1419184148, 2875783148, 1817845876, 2477121420, 3434425636, 860541660, 4233039261, 61928035, 300609006, 3994358290, 975366560, 3319600736, 2781600929, 1513366367, 3889854731, 405112565, 3935010590, 359956706, 2197155094, 2097812202, 2130066389, 2164900907, 3598276897, 696690399, 2308109491, 1986857805, 2382939200, 1912028096, 1228239371, 3066727925, 1884934581, 2410032715, 3466679822, 828287474, 1211467195, 3083500101, 2977706375, 1317260921, 3144137970, 1150829326, 3080919767, 1214047529, 945692709, 3349274587, 3015121229, 1279846067, 345764865, 3949202431, 826997308, 3467969988, 2043625172, 2251342124, 2964804700, 1330162596, 2628071007, 1666896289, 4154339049, 140628247, 483812778, 3811154518, 3288636719, 1006330577, 2696449880, 1598517416, 2122325384, 2172641912, 1371447954, 2923519342, 411563403, 3883403893, 3577634219, 717333077, 976656727, 3318310569, 2708061387, 1586905909, 723783916, 3571183380, 3181552825, 1113414471, 3346694253, 948273043, 3617629408, 677337888, 1408862808, 2886104488, 519937465, 3775029831, 1323711759, 2971255537, 1474661346, 2820305950, 2773859924, 1521107372, 3580214553, 714752743, 1143088323, 3151878973, 2221668274, 2073299022, 1563682897, 2731284399, 2417773720, 1877193576, 1327582262, 2967385034, 2722253228, 1572714068, 3786641338, 508325958, 1141798155, 3153169141, 2779020594, 1515946702, \n"
     ]
    }
   ],
   "source": [
    "for x in [21932846, -21932846, 3562152210, -3562152210, 752167598, -752167598, 3417653460, -3417653460, 2112004045, -2112004045, 932791035, -932791035, 2951903026, -2951903026, 1419184148, -1419184148, 1817845876, -1817845876, 3434425636, -3434425636, 4233039261, -4233039261, 300609006, -300609006, 975366560, -975366560, 2781600929, -2781600929, 3889854731, -3889854731, 3935010590, -3935010590, 2197155094, -2197155094, 2130066389, -2130066389, 3598276897, -3598276897, 2308109491, -2308109491, 2382939200, -2382939200, 1228239371, -1228239371, 1884934581, -1884934581, 3466679822, -3466679822, 1211467195, -1211467195, 2977706375, -2977706375, 3144137970, -3144137970, 3080919767, -3080919767, 945692709, -945692709, 3015121229, -3015121229, 345764865, -345764865, 826997308, -826997308, 2043625172, -2043625172, 2964804700, -2964804700, 2628071007, -2628071007, 4154339049, -4154339049, 483812778, -483812778, 3288636719, -3288636719, 2696449880, -2696449880, 2122325384, -2122325384, 1371447954, -1371447954, 411563403, -411563403, 3577634219, -3577634219, 976656727, -976656727, 2708061387, -2708061387, 723783916, -723783916, 3181552825, -3181552825, 3346694253, -3346694253, 3617629408, -3617629408, 1408862808, -1408862808, 519937465, -519937465, 1323711759, -1323711759, 1474661346, -1474661346, 2773859924, -2773859924, 3580214553, -3580214553, 1143088323, -1143088323, 2221668274, -2221668274, 1563682897, -1563682897, 2417773720, -2417773720, 1327582262, -1327582262, 2722253228, -2722253228, 3786641338, -3786641338, 1141798155, -1141798155, 2779020594, -2779020594]:\n",
    "    print(x & 0xffffffff, end=', ')\n",
    "print()"
   ]
  },
  {
   "cell_type": "markdown",
   "id": "446dc62e",
   "metadata": {},
   "source": []
  },
  {
   "cell_type": "markdown",
   "id": "4a8e95a4",
   "metadata": {},
   "source": []
  },
  {
   "cell_type": "markdown",
   "id": "47898262",
   "metadata": {},
   "source": []
  },
  {
   "cell_type": "markdown",
   "id": "352fa1ce",
   "metadata": {},
   "source": []
  },
  {
   "cell_type": "markdown",
   "id": "09d50756",
   "metadata": {},
   "source": []
  },
  {
   "cell_type": "markdown",
   "id": "5fd3ea1c",
   "metadata": {},
   "source": []
  },
  {
   "cell_type": "markdown",
   "id": "cb6e638f",
   "metadata": {},
   "source": []
  }
 ],
 "metadata": {
  "kernelspec": {
   "display_name": "sca",
   "language": "python",
   "name": "python3"
  },
  "language_info": {
   "codemirror_mode": {
    "name": "ipython",
    "version": 3
   },
   "file_extension": ".py",
   "mimetype": "text/x-python",
   "name": "python",
   "nbconvert_exporter": "python",
   "pygments_lexer": "ipython3",
   "version": "3.12.2"
  }
 },
 "nbformat": 4,
 "nbformat_minor": 5
}
